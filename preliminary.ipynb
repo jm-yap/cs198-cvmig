{
  "nbformat": 4,
  "nbformat_minor": 0,
  "metadata": {
    "colab": {
      "provenance": [],
      "toc_visible": true
    },
    "kernelspec": {
      "name": "python3",
      "display_name": "Python 3"
    },
    "language_info": {
      "name": "python"
    }
  },
  "cells": [
    {
      "cell_type": "markdown",
      "source": [
        "# Enhanced Skin Cancer Detection Using Diffusion-Based Data Augmentation and Vision Transformers"
      ],
      "metadata": {
        "id": "-ZW2nePUhS8j"
      }
    },
    {
      "cell_type": "markdown",
      "source": [
        "# Mounting the Drive"
      ],
      "metadata": {
        "id": "3FsA_X26h8bX"
      }
    },
    {
      "cell_type": "code",
      "execution_count": null,
      "metadata": {
        "colab": {
          "base_uri": "https://localhost:8080/"
        },
        "id": "NvdAlPPgYtQ2",
        "outputId": "5c82e4f6-a85e-4fc7-aee8-d5a0fdb796ef"
      },
      "outputs": [
        {
          "output_type": "stream",
          "name": "stdout",
          "text": [
            "Mounted at /content/drive\n"
          ]
        }
      ],
      "source": [
        "# Mount the gdrive\n",
        "from google.colab import drive\n",
        "drive.mount('/content/drive')"
      ]
    },
    {
      "cell_type": "code",
      "source": [
        "# change path\n",
        "%cd /content/drive/MyDrive/CS \\198/Datasets/ISIC2016"
      ],
      "metadata": {
        "colab": {
          "base_uri": "https://localhost:8080/"
        },
        "id": "jFF2mjlFemJT",
        "outputId": "5206638c-f18d-4dab-e19f-04c2d51e6b45"
      },
      "execution_count": null,
      "outputs": [
        {
          "output_type": "stream",
          "name": "stdout",
          "text": [
            "/content/drive/.shortcut-targets-by-id/1asTaHB00qgGULpAu4P1_uXreHPv8cwux/CS 198/Datasets/ISIC2016\n"
          ]
        }
      ]
    },
    {
      "cell_type": "code",
      "source": [
        "%ls"
      ],
      "metadata": {
        "colab": {
          "base_uri": "https://localhost:8080/"
        },
        "id": "Xycm_VRhfl1G",
        "outputId": "1072e83f-3d00-483b-f9cd-436999953557"
      },
      "execution_count": null,
      "outputs": [
        {
          "output_type": "stream",
          "name": "stdout",
          "text": [
            "\u001b[0m\u001b[01;34mISBI2016_ISIC_Part1_Training_Data\u001b[0m/  ISBI2016_ISIC_Part3_Training_GroundTruth.csv\n"
          ]
        }
      ]
    },
    {
      "cell_type": "markdown",
      "source": [
        "# Importing Libraries"
      ],
      "metadata": {
        "id": "jFIDRZPKiEY-"
      }
    },
    {
      "cell_type": "code",
      "source": [],
      "metadata": {
        "id": "f4jpf9NgkoxW"
      },
      "execution_count": null,
      "outputs": []
    },
    {
      "cell_type": "code",
      "source": [
        "import cv2"
      ],
      "metadata": {
        "id": "tx0no_NljQGn"
      },
      "execution_count": null,
      "outputs": []
    },
    {
      "cell_type": "markdown",
      "source": [
        "# Data Preprocessing"
      ],
      "metadata": {
        "id": "rp4xqyFYiK1p"
      }
    },
    {
      "cell_type": "markdown",
      "source": [
        "import dataset\n",
        "resize images etc"
      ],
      "metadata": {
        "id": "G4_L-QjtjFuS"
      }
    },
    {
      "cell_type": "code",
      "source": [],
      "metadata": {
        "id": "pzwSptQOjRXs"
      },
      "execution_count": null,
      "outputs": []
    },
    {
      "cell_type": "markdown",
      "source": [
        "# Diffusion-Based Augmentation"
      ],
      "metadata": {
        "id": "xjHI1cNSiO6g"
      }
    },
    {
      "cell_type": "code",
      "source": [],
      "metadata": {
        "id": "N7fottVxjSL3"
      },
      "execution_count": null,
      "outputs": []
    },
    {
      "cell_type": "markdown",
      "source": [
        "# Classification using Vision Transformers"
      ],
      "metadata": {
        "id": "1JD1RgHWiTwI"
      }
    },
    {
      "cell_type": "code",
      "source": [],
      "metadata": {
        "id": "x4dskOzejS4w"
      },
      "execution_count": null,
      "outputs": []
    }
  ]
}