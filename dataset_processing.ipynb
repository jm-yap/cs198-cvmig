{
 "cells": [
  {
   "cell_type": "markdown",
   "metadata": {
    "id": "-ZW2nePUhS8j"
   },
   "source": [
    "# Enhanced Skin Cancer Detection Using Diffusion-Based Data Augmentation and Vision Transformers"
   ]
  },
  {
   "cell_type": "markdown",
   "metadata": {
    "id": "jFIDRZPKiEY-"
   },
   "source": [
    "# Installing Libraries"
   ]
  },
  {
   "cell_type": "code",
   "execution_count": null,
   "metadata": {},
   "outputs": [],
   "source": [
    "# %pip uninstall -y torch torchvision\n",
    "# %pip install torch==2.5.0 torchvision==0.20.0\n",
    "# %pip install evaluate\n",
    "# %pip install wandb\n",
    "# %pip install huggingface_hub\n",
    "# %pip install torch==2.5.0 torchvision==0.20.0 --index-url https://download.pytorch.org/whl/cu121"
   ]
  },
  {
   "cell_type": "code",
   "execution_count": 1,
   "metadata": {
    "id": "tx0no_NljQGn"
   },
   "outputs": [
    {
     "name": "stderr",
     "output_type": "stream",
     "text": [
      "c:\\Users\\win10\\AppData\\Local\\Programs\\Python\\Python311\\Lib\\site-packages\\tqdm\\auto.py:21: TqdmWarning: IProgress not found. Please update jupyter and ipywidgets. See https://ipywidgets.readthedocs.io/en/stable/user_install.html\n",
      "  from .autonotebook import tqdm as notebook_tqdm\n"
     ]
    }
   ],
   "source": [
    "import pandas as pd\n",
    "import os\n",
    "import numpy as np\n",
    "from PIL import Image\n",
    "\n",
    "import torch\n",
    "from torch.utils.data import Dataset\n",
    "from torchvision import datasets, transforms\n",
    "from torchvision.transforms import ToTensor\n",
    "import matplotlib.pyplot as plt\n",
    "\n",
    "from sklearn.model_selection import train_test_split\n",
    "from transformers import AutoImageProcessor, AutoModelForImageClassification, Trainer, TrainingArguments\n",
    "\n",
    "import wandb"
   ]
  },
  {
   "cell_type": "markdown",
   "metadata": {
    "id": "rp4xqyFYiK1p"
   },
   "source": [
    "# Data Preprocessing"
   ]
  },
  {
   "cell_type": "markdown",
   "metadata": {},
   "source": [
    "### Load Training and Testing Data"
   ]
  },
  {
   "cell_type": "code",
   "execution_count": 1,
   "metadata": {},
   "outputs": [
    {
     "name": "stderr",
     "output_type": "stream",
     "text": [
      "c:\\Users\\win10\\AppData\\Local\\Programs\\Python\\Python311\\Lib\\site-packages\\tqdm\\auto.py:21: TqdmWarning: IProgress not found. Please update jupyter and ipywidgets. See https://ipywidgets.readthedocs.io/en/stable/user_install.html\n",
      "  from .autonotebook import tqdm as notebook_tqdm\n",
      "Downloading data: 100%|██████████| 48/48 [00:00<00:00, 53.92files/s]\n",
      "Generating train split: 100%|██████████| 71422/71422 [05:46<00:00, 206.36 examples/s] \n",
      "Generating validation split: 100%|██████████| 9753/9753 [00:49<00:00, 195.88 examples/s] \n",
      "Generating test split: 100%|██████████| 8103/8103 [00:53<00:00, 150.53 examples/s]\n"
     ]
    }
   ],
   "source": [
    "from datasets import load_dataset, DatasetDict\n",
    "\n",
    "dataset = load_dataset('TobanDjan/isic_full')"
   ]
  },
  {
   "cell_type": "code",
   "execution_count": 3,
   "metadata": {},
   "outputs": [
    {
     "data": {
      "text/plain": [
       "DatasetDict({\n",
       "    train: Dataset({\n",
       "        features: ['isic_id', 'target', 'patient_id', 'age_approx', 'sex', 'anatom_site_general', 'clin_size_long_diam_mm', 'image_type', 'tbp_tile_type', 'tbp_lv_A', 'tbp_lv_Aext', 'tbp_lv_B', 'tbp_lv_Bext', 'tbp_lv_C', 'tbp_lv_Cext', 'tbp_lv_H', 'tbp_lv_Hext', 'tbp_lv_L', 'tbp_lv_Lext', 'tbp_lv_areaMM2', 'tbp_lv_area_perim_ratio', 'tbp_lv_color_std_mean', 'tbp_lv_deltaA', 'tbp_lv_deltaB', 'tbp_lv_deltaL', 'tbp_lv_deltaLB', 'tbp_lv_deltaLBnorm', 'tbp_lv_eccentricity', 'tbp_lv_location', 'tbp_lv_location_simple', 'tbp_lv_minorAxisMM', 'tbp_lv_nevi_confidence', 'tbp_lv_norm_border', 'tbp_lv_norm_color', 'tbp_lv_perimeterMM', 'tbp_lv_radial_color_std_max', 'tbp_lv_stdL', 'tbp_lv_stdLExt', 'tbp_lv_symm_2axis', 'tbp_lv_symm_2axis_angle', 'tbp_lv_x', 'tbp_lv_y', 'tbp_lv_z', 'attribution', 'copyright_license', 'lesion_id', 'iddx_full', 'iddx_1', 'iddx_2', 'iddx_3', 'iddx_4', 'iddx_5', 'mel_mitotic_index', 'mel_thick_mm', 'tbp_lv_dnn_lesion_confidence', 'PROC_use', 'PROC_source', 'benign_malignant', 'label', 'diagnosis', 'PROC_diag_inferred', 'acquisition_day', 'concomitant_biopsy', 'dermoscopic_type', 'diagnosis_confirm_type', 'family_hx_mm', 'fitzpatrick_skin_type', 'mel_class', 'mel_type', 'mel_ulcer', 'melanocytic', 'nevus_type', 'personal_hx_mm', 'pixels_x', 'pixels_y', 'PROC_label_inferred', 'image'],\n",
       "        num_rows: 71422\n",
       "    })\n",
       "    validation: Dataset({\n",
       "        features: ['isic_id', 'target', 'patient_id', 'age_approx', 'sex', 'anatom_site_general', 'clin_size_long_diam_mm', 'image_type', 'tbp_tile_type', 'tbp_lv_A', 'tbp_lv_Aext', 'tbp_lv_B', 'tbp_lv_Bext', 'tbp_lv_C', 'tbp_lv_Cext', 'tbp_lv_H', 'tbp_lv_Hext', 'tbp_lv_L', 'tbp_lv_Lext', 'tbp_lv_areaMM2', 'tbp_lv_area_perim_ratio', 'tbp_lv_color_std_mean', 'tbp_lv_deltaA', 'tbp_lv_deltaB', 'tbp_lv_deltaL', 'tbp_lv_deltaLB', 'tbp_lv_deltaLBnorm', 'tbp_lv_eccentricity', 'tbp_lv_location', 'tbp_lv_location_simple', 'tbp_lv_minorAxisMM', 'tbp_lv_nevi_confidence', 'tbp_lv_norm_border', 'tbp_lv_norm_color', 'tbp_lv_perimeterMM', 'tbp_lv_radial_color_std_max', 'tbp_lv_stdL', 'tbp_lv_stdLExt', 'tbp_lv_symm_2axis', 'tbp_lv_symm_2axis_angle', 'tbp_lv_x', 'tbp_lv_y', 'tbp_lv_z', 'attribution', 'copyright_license', 'lesion_id', 'iddx_full', 'iddx_1', 'iddx_2', 'iddx_3', 'iddx_4', 'iddx_5', 'mel_mitotic_index', 'mel_thick_mm', 'tbp_lv_dnn_lesion_confidence', 'PROC_use', 'PROC_source', 'benign_malignant', 'label', 'diagnosis', 'PROC_diag_inferred', 'acquisition_day', 'concomitant_biopsy', 'dermoscopic_type', 'diagnosis_confirm_type', 'family_hx_mm', 'fitzpatrick_skin_type', 'mel_class', 'mel_type', 'mel_ulcer', 'melanocytic', 'nevus_type', 'personal_hx_mm', 'pixels_x', 'pixels_y', 'PROC_label_inferred', 'image'],\n",
       "        num_rows: 9753\n",
       "    })\n",
       "    test: Dataset({\n",
       "        features: ['isic_id', 'target', 'patient_id', 'age_approx', 'sex', 'anatom_site_general', 'clin_size_long_diam_mm', 'image_type', 'tbp_tile_type', 'tbp_lv_A', 'tbp_lv_Aext', 'tbp_lv_B', 'tbp_lv_Bext', 'tbp_lv_C', 'tbp_lv_Cext', 'tbp_lv_H', 'tbp_lv_Hext', 'tbp_lv_L', 'tbp_lv_Lext', 'tbp_lv_areaMM2', 'tbp_lv_area_perim_ratio', 'tbp_lv_color_std_mean', 'tbp_lv_deltaA', 'tbp_lv_deltaB', 'tbp_lv_deltaL', 'tbp_lv_deltaLB', 'tbp_lv_deltaLBnorm', 'tbp_lv_eccentricity', 'tbp_lv_location', 'tbp_lv_location_simple', 'tbp_lv_minorAxisMM', 'tbp_lv_nevi_confidence', 'tbp_lv_norm_border', 'tbp_lv_norm_color', 'tbp_lv_perimeterMM', 'tbp_lv_radial_color_std_max', 'tbp_lv_stdL', 'tbp_lv_stdLExt', 'tbp_lv_symm_2axis', 'tbp_lv_symm_2axis_angle', 'tbp_lv_x', 'tbp_lv_y', 'tbp_lv_z', 'attribution', 'copyright_license', 'lesion_id', 'iddx_full', 'iddx_1', 'iddx_2', 'iddx_3', 'iddx_4', 'iddx_5', 'mel_mitotic_index', 'mel_thick_mm', 'tbp_lv_dnn_lesion_confidence', 'PROC_use', 'PROC_source', 'benign_malignant', 'label', 'diagnosis', 'PROC_diag_inferred', 'acquisition_day', 'concomitant_biopsy', 'dermoscopic_type', 'diagnosis_confirm_type', 'family_hx_mm', 'fitzpatrick_skin_type', 'mel_class', 'mel_type', 'mel_ulcer', 'melanocytic', 'nevus_type', 'personal_hx_mm', 'pixels_x', 'pixels_y', 'PROC_label_inferred', 'image'],\n",
       "        num_rows: 8103\n",
       "    })\n",
       "})"
      ]
     },
     "execution_count": 3,
     "metadata": {},
     "output_type": "execute_result"
    }
   ],
   "source": [
    "dataset"
   ]
  },
  {
   "cell_type": "code",
   "execution_count": 4,
   "metadata": {},
   "outputs": [
    {
     "data": {
      "text/plain": [
       "{'isic_id': 'ISIC_0074374',\n",
       " 'target': 0.0,\n",
       " 'patient_id': 'IP_8275247',\n",
       " 'age_approx': 45.0,\n",
       " 'sex': 'female',\n",
       " 'anatom_site_general': 'lower extremity',\n",
       " 'clin_size_long_diam_mm': 5.81,\n",
       " 'image_type': 'TBP tile: close-up',\n",
       " 'tbp_tile_type': '3D: XP',\n",
       " 'tbp_lv_A': 19.3092,\n",
       " 'tbp_lv_Aext': 11.28295,\n",
       " 'tbp_lv_B': 28.71941,\n",
       " 'tbp_lv_Bext': 28.06602,\n",
       " 'tbp_lv_C': 34.60708,\n",
       " 'tbp_lv_Cext': 30.24907,\n",
       " 'tbp_lv_H': 56.0855,\n",
       " 'tbp_lv_Hext': 68.09915,\n",
       " 'tbp_lv_L': 36.10392,\n",
       " 'tbp_lv_Lext': 52.10398,\n",
       " 'tbp_lv_areaMM2': 20.84819,\n",
       " 'tbp_lv_area_perim_ratio': 14.85512,\n",
       " 'tbp_lv_color_std_mean': 2.971028,\n",
       " 'tbp_lv_deltaA': 8.02625,\n",
       " 'tbp_lv_deltaB': 0.6533947,\n",
       " 'tbp_lv_deltaL': -16.00006,\n",
       " 'tbp_lv_deltaLB': 16.19029,\n",
       " 'tbp_lv_deltaLBnorm': 13.08323,\n",
       " 'tbp_lv_eccentricity': 0.6521911,\n",
       " 'tbp_lv_location': 'Left Leg - Lower',\n",
       " 'tbp_lv_location_simple': 'Left Leg',\n",
       " 'tbp_lv_minorAxisMM': 4.493151,\n",
       " 'tbp_lv_nevi_confidence': 99.76054,\n",
       " 'tbp_lv_norm_border': 1.370506,\n",
       " 'tbp_lv_norm_color': 8.730084,\n",
       " 'tbp_lv_perimeterMM': 17.59836,\n",
       " 'tbp_lv_radial_color_std_max': 2.85631,\n",
       " 'tbp_lv_stdL': 7.445772,\n",
       " 'tbp_lv_stdLExt': 1.810217,\n",
       " 'tbp_lv_symm_2axis': 0.1286957,\n",
       " 'tbp_lv_symm_2axis_angle': 140.0,\n",
       " 'tbp_lv_x': -283.2231,\n",
       " 'tbp_lv_y': 240.5466,\n",
       " 'tbp_lv_z': 70.53552,\n",
       " 'attribution': 'Department of Dermatology, Hospital Clínic de Barcelona',\n",
       " 'copyright_license': 'CC-BY-NC',\n",
       " 'lesion_id': '',\n",
       " 'iddx_full': 'Benign',\n",
       " 'iddx_1': 'Benign',\n",
       " 'iddx_2': '',\n",
       " 'iddx_3': '',\n",
       " 'iddx_4': '',\n",
       " 'iddx_5': None,\n",
       " 'mel_mitotic_index': '',\n",
       " 'mel_thick_mm': nan,\n",
       " 'tbp_lv_dnn_lesion_confidence': 100.0,\n",
       " 'PROC_use': 'training',\n",
       " 'PROC_source': '2024',\n",
       " 'benign_malignant': 'benign',\n",
       " 'label': 0,\n",
       " 'diagnosis': '',\n",
       " 'PROC_diag_inferred': 0.0,\n",
       " 'acquisition_day': nan,\n",
       " 'concomitant_biopsy': nan,\n",
       " 'dermoscopic_type': '',\n",
       " 'diagnosis_confirm_type': '',\n",
       " 'family_hx_mm': nan,\n",
       " 'fitzpatrick_skin_type': '',\n",
       " 'mel_class': '',\n",
       " 'mel_type': '',\n",
       " 'mel_ulcer': nan,\n",
       " 'melanocytic': nan,\n",
       " 'nevus_type': '',\n",
       " 'personal_hx_mm': nan,\n",
       " 'pixels_x': nan,\n",
       " 'pixels_y': nan,\n",
       " 'PROC_label_inferred': nan,\n",
       " 'image': <PIL.JpegImagePlugin.JpegImageFile image mode=RGB size=137x137>}"
      ]
     },
     "execution_count": 4,
     "metadata": {},
     "output_type": "execute_result"
    }
   ],
   "source": [
    "dataset['train'][0]"
   ]
  },
  {
   "cell_type": "code",
   "execution_count": null,
   "metadata": {},
   "outputs": [
    {
     "ename": "ValueError",
     "evalue": "Column name ['sex', 'diagnosis', 'patient_id', 'iddx_full', 'tbp_lv_dnn_lesion_confidence', 'concomitant_biopsy', 'tbp_lv_radial_color_std_max', 'PROC_diag_inferred', 'mel_type', 'personal_hx_mm', 'tbp_lv_deltaLBnorm', 'nevus_type', 'tbp_lv_eccentricity', 'tbp_lv_minorAxisMM', 'mel_mitotic_index', 'PROC_label_inferred', 'copyright_license', 'fitzpatrick_skin_type', 'clin_size_long_diam_mm', 'tbp_lv_nevi_confidence', 'iddx_4', 'iddx_5', 'tbp_lv_symm_2axis_angle', 'tbp_lv_deltaL', 'tbp_lv_stdLExt', 'tbp_lv_z', 'tbp_lv_y', 'dermoscopic_type', 'tbp_lv_area_perim_ratio', 'mel_ulcer', 'tbp_lv_location', 'mel_thick_mm', 'tbp_lv_Lext', 'attribution', 'tbp_lv_symm_2axis', 'family_hx_mm', 'pixels_y', 'acquisition_day', 'pixels_x', 'PROC_source', 'tbp_lv_location_simple', 'tbp_lv_x', 'iddx_3', 'tbp_lv_C', 'tbp_lv_deltaB', 'tbp_lv_perimeterMM', 'PROC_use', 'tbp_lv_color_std_mean', 'diagnosis_confirm_type', 'tbp_lv_norm_border', 'iddx_2', 'tbp_lv_B', 'tbp_lv_L', 'tbp_lv_A', 'anatom_site_general', 'target', 'tbp_lv_stdL', 'tbp_lv_areaMM2', 'tbp_lv_deltaLB', 'age_approx', 'lesion_id', 'tbp_lv_Cext', 'image_type', 'tbp_tile_type', 'tbp_lv_deltaA', 'tbp_lv_Hext', 'iddx_1', 'tbp_lv_norm_color', 'melanocytic', 'mel_class', 'tbp_lv_Aext', 'tbp_lv_Bext', 'tbp_lv_H'] not in the dataset. Current columns in the dataset: ['isic_id', 'benign_malignant', 'label', 'image']",
     "output_type": "error",
     "traceback": [
      "\u001b[1;31m---------------------------------------------------------------------------\u001b[0m",
      "\u001b[1;31mValueError\u001b[0m                                Traceback (most recent call last)",
      "Cell \u001b[1;32mIn[7], line 1\u001b[0m\n\u001b[1;32m----> 1\u001b[0m dataset \u001b[38;5;241m=\u001b[39m \u001b[43mdataset\u001b[49m\u001b[38;5;241;43m.\u001b[39;49m\u001b[43mremove_columns\u001b[49m\u001b[43m(\u001b[49m\u001b[43m[\u001b[49m\u001b[38;5;124;43m'\u001b[39;49m\u001b[38;5;124;43mtarget\u001b[39;49m\u001b[38;5;124;43m'\u001b[39;49m\u001b[43m,\u001b[49m\u001b[43m \u001b[49m\u001b[38;5;124;43m'\u001b[39;49m\u001b[38;5;124;43mpatient_id\u001b[39;49m\u001b[38;5;124;43m'\u001b[39;49m\u001b[43m,\u001b[49m\u001b[43m \u001b[49m\u001b[38;5;124;43m'\u001b[39;49m\u001b[38;5;124;43mage_approx\u001b[39;49m\u001b[38;5;124;43m'\u001b[39;49m\u001b[43m,\u001b[49m\u001b[43m \u001b[49m\u001b[38;5;124;43m'\u001b[39;49m\u001b[38;5;124;43msex\u001b[39;49m\u001b[38;5;124;43m'\u001b[39;49m\u001b[43m,\u001b[49m\u001b[43m \u001b[49m\u001b[38;5;124;43m'\u001b[39;49m\u001b[38;5;124;43manatom_site_general\u001b[39;49m\u001b[38;5;124;43m'\u001b[39;49m\u001b[43m,\u001b[49m\u001b[43m \u001b[49m\u001b[38;5;124;43m'\u001b[39;49m\u001b[38;5;124;43mclin_size_long_diam_mm\u001b[39;49m\u001b[38;5;124;43m'\u001b[39;49m\u001b[43m,\u001b[49m\u001b[43m \u001b[49m\u001b[38;5;124;43m'\u001b[39;49m\u001b[38;5;124;43mimage_type\u001b[39;49m\u001b[38;5;124;43m'\u001b[39;49m\u001b[43m,\u001b[49m\u001b[43m \u001b[49m\u001b[38;5;124;43m'\u001b[39;49m\u001b[38;5;124;43mtbp_tile_type\u001b[39;49m\u001b[38;5;124;43m'\u001b[39;49m\u001b[43m,\u001b[49m\u001b[43m \u001b[49m\u001b[38;5;124;43m'\u001b[39;49m\u001b[38;5;124;43mtbp_lv_A\u001b[39;49m\u001b[38;5;124;43m'\u001b[39;49m\u001b[43m,\u001b[49m\u001b[43m \u001b[49m\u001b[38;5;124;43m'\u001b[39;49m\u001b[38;5;124;43mtbp_lv_Aext\u001b[39;49m\u001b[38;5;124;43m'\u001b[39;49m\u001b[43m,\u001b[49m\u001b[43m \u001b[49m\u001b[38;5;124;43m'\u001b[39;49m\u001b[38;5;124;43mtbp_lv_B\u001b[39;49m\u001b[38;5;124;43m'\u001b[39;49m\u001b[43m,\u001b[49m\u001b[43m \u001b[49m\u001b[38;5;124;43m'\u001b[39;49m\u001b[38;5;124;43mtbp_lv_Bext\u001b[39;49m\u001b[38;5;124;43m'\u001b[39;49m\u001b[43m,\u001b[49m\u001b[43m \u001b[49m\u001b[38;5;124;43m'\u001b[39;49m\u001b[38;5;124;43mtbp_lv_C\u001b[39;49m\u001b[38;5;124;43m'\u001b[39;49m\u001b[43m,\u001b[49m\u001b[43m \u001b[49m\u001b[38;5;124;43m'\u001b[39;49m\u001b[38;5;124;43mtbp_lv_Cext\u001b[39;49m\u001b[38;5;124;43m'\u001b[39;49m\u001b[43m,\u001b[49m\u001b[43m \u001b[49m\u001b[38;5;124;43m'\u001b[39;49m\u001b[38;5;124;43mtbp_lv_H\u001b[39;49m\u001b[38;5;124;43m'\u001b[39;49m\u001b[43m,\u001b[49m\u001b[43m \u001b[49m\u001b[38;5;124;43m'\u001b[39;49m\u001b[38;5;124;43mtbp_lv_Hext\u001b[39;49m\u001b[38;5;124;43m'\u001b[39;49m\u001b[43m,\u001b[49m\u001b[43m \u001b[49m\u001b[38;5;124;43m'\u001b[39;49m\u001b[38;5;124;43mtbp_lv_L\u001b[39;49m\u001b[38;5;124;43m'\u001b[39;49m\u001b[43m,\u001b[49m\u001b[43m \u001b[49m\u001b[38;5;124;43m'\u001b[39;49m\u001b[38;5;124;43mtbp_lv_Lext\u001b[39;49m\u001b[38;5;124;43m'\u001b[39;49m\u001b[43m,\u001b[49m\u001b[43m \u001b[49m\u001b[38;5;124;43m'\u001b[39;49m\u001b[38;5;124;43mtbp_lv_areaMM2\u001b[39;49m\u001b[38;5;124;43m'\u001b[39;49m\u001b[43m,\u001b[49m\u001b[43m \u001b[49m\u001b[38;5;124;43m'\u001b[39;49m\u001b[38;5;124;43mtbp_lv_area_perim_ratio\u001b[39;49m\u001b[38;5;124;43m'\u001b[39;49m\u001b[43m,\u001b[49m\u001b[43m \u001b[49m\u001b[38;5;124;43m'\u001b[39;49m\u001b[38;5;124;43mtbp_lv_color_std_mean\u001b[39;49m\u001b[38;5;124;43m'\u001b[39;49m\u001b[43m,\u001b[49m\u001b[43m \u001b[49m\u001b[38;5;124;43m'\u001b[39;49m\u001b[38;5;124;43mtbp_lv_deltaA\u001b[39;49m\u001b[38;5;124;43m'\u001b[39;49m\u001b[43m,\u001b[49m\u001b[43m \u001b[49m\u001b[38;5;124;43m'\u001b[39;49m\u001b[38;5;124;43mtbp_lv_deltaB\u001b[39;49m\u001b[38;5;124;43m'\u001b[39;49m\u001b[43m,\u001b[49m\u001b[43m \u001b[49m\u001b[38;5;124;43m'\u001b[39;49m\u001b[38;5;124;43mtbp_lv_deltaL\u001b[39;49m\u001b[38;5;124;43m'\u001b[39;49m\u001b[43m,\u001b[49m\u001b[43m \u001b[49m\u001b[38;5;124;43m'\u001b[39;49m\u001b[38;5;124;43mtbp_lv_deltaLB\u001b[39;49m\u001b[38;5;124;43m'\u001b[39;49m\u001b[43m,\u001b[49m\u001b[43m \u001b[49m\u001b[38;5;124;43m'\u001b[39;49m\u001b[38;5;124;43mtbp_lv_deltaLBnorm\u001b[39;49m\u001b[38;5;124;43m'\u001b[39;49m\u001b[43m,\u001b[49m\u001b[43m \u001b[49m\u001b[38;5;124;43m'\u001b[39;49m\u001b[38;5;124;43mtbp_lv_eccentricity\u001b[39;49m\u001b[38;5;124;43m'\u001b[39;49m\u001b[43m,\u001b[49m\u001b[43m \u001b[49m\u001b[38;5;124;43m'\u001b[39;49m\u001b[38;5;124;43mtbp_lv_location\u001b[39;49m\u001b[38;5;124;43m'\u001b[39;49m\u001b[43m,\u001b[49m\u001b[43m \u001b[49m\u001b[38;5;124;43m'\u001b[39;49m\u001b[38;5;124;43mtbp_lv_location_simple\u001b[39;49m\u001b[38;5;124;43m'\u001b[39;49m\u001b[43m,\u001b[49m\u001b[43m \u001b[49m\u001b[38;5;124;43m'\u001b[39;49m\u001b[38;5;124;43mtbp_lv_minorAxisMM\u001b[39;49m\u001b[38;5;124;43m'\u001b[39;49m\u001b[43m,\u001b[49m\u001b[43m \u001b[49m\u001b[38;5;124;43m'\u001b[39;49m\u001b[38;5;124;43mtbp_lv_nevi_confidence\u001b[39;49m\u001b[38;5;124;43m'\u001b[39;49m\u001b[43m,\u001b[49m\u001b[43m \u001b[49m\u001b[38;5;124;43m'\u001b[39;49m\u001b[38;5;124;43mtbp_lv_norm_border\u001b[39;49m\u001b[38;5;124;43m'\u001b[39;49m\u001b[43m,\u001b[49m\u001b[43m \u001b[49m\u001b[38;5;124;43m'\u001b[39;49m\u001b[38;5;124;43mtbp_lv_norm_color\u001b[39;49m\u001b[38;5;124;43m'\u001b[39;49m\u001b[43m,\u001b[49m\u001b[43m \u001b[49m\u001b[38;5;124;43m'\u001b[39;49m\u001b[38;5;124;43mtbp_lv_perimeterMM\u001b[39;49m\u001b[38;5;124;43m'\u001b[39;49m\u001b[43m,\u001b[49m\u001b[43m \u001b[49m\u001b[38;5;124;43m'\u001b[39;49m\u001b[38;5;124;43mtbp_lv_radial_color_std_max\u001b[39;49m\u001b[38;5;124;43m'\u001b[39;49m\u001b[43m,\u001b[49m\u001b[43m \u001b[49m\u001b[38;5;124;43m'\u001b[39;49m\u001b[38;5;124;43mtbp_lv_stdL\u001b[39;49m\u001b[38;5;124;43m'\u001b[39;49m\u001b[43m,\u001b[49m\u001b[43m \u001b[49m\u001b[38;5;124;43m'\u001b[39;49m\u001b[38;5;124;43mtbp_lv_stdLExt\u001b[39;49m\u001b[38;5;124;43m'\u001b[39;49m\u001b[43m,\u001b[49m\u001b[43m \u001b[49m\u001b[38;5;124;43m'\u001b[39;49m\u001b[38;5;124;43mtbp_lv_symm_2axis\u001b[39;49m\u001b[38;5;124;43m'\u001b[39;49m\u001b[43m,\u001b[49m\u001b[43m \u001b[49m\u001b[38;5;124;43m'\u001b[39;49m\u001b[38;5;124;43mtbp_lv_symm_2axis_angle\u001b[39;49m\u001b[38;5;124;43m'\u001b[39;49m\u001b[43m,\u001b[49m\u001b[43m \u001b[49m\u001b[38;5;124;43m'\u001b[39;49m\u001b[38;5;124;43mtbp_lv_x\u001b[39;49m\u001b[38;5;124;43m'\u001b[39;49m\u001b[43m,\u001b[49m\u001b[43m \u001b[49m\u001b[38;5;124;43m'\u001b[39;49m\u001b[38;5;124;43mtbp_lv_y\u001b[39;49m\u001b[38;5;124;43m'\u001b[39;49m\u001b[43m,\u001b[49m\u001b[43m \u001b[49m\u001b[38;5;124;43m'\u001b[39;49m\u001b[38;5;124;43mtbp_lv_z\u001b[39;49m\u001b[38;5;124;43m'\u001b[39;49m\u001b[43m,\u001b[49m\u001b[43m \u001b[49m\u001b[38;5;124;43m'\u001b[39;49m\u001b[38;5;124;43mattribution\u001b[39;49m\u001b[38;5;124;43m'\u001b[39;49m\u001b[43m,\u001b[49m\u001b[43m \u001b[49m\u001b[38;5;124;43m'\u001b[39;49m\u001b[38;5;124;43mcopyright_license\u001b[39;49m\u001b[38;5;124;43m'\u001b[39;49m\u001b[43m,\u001b[49m\u001b[43m \u001b[49m\u001b[38;5;124;43m'\u001b[39;49m\u001b[38;5;124;43mlesion_id\u001b[39;49m\u001b[38;5;124;43m'\u001b[39;49m\u001b[43m,\u001b[49m\u001b[43m \u001b[49m\u001b[38;5;124;43m'\u001b[39;49m\u001b[38;5;124;43middx_full\u001b[39;49m\u001b[38;5;124;43m'\u001b[39;49m\u001b[43m,\u001b[49m\u001b[43m \u001b[49m\u001b[38;5;124;43m'\u001b[39;49m\u001b[38;5;124;43middx_1\u001b[39;49m\u001b[38;5;124;43m'\u001b[39;49m\u001b[43m,\u001b[49m\u001b[43m \u001b[49m\u001b[38;5;124;43m'\u001b[39;49m\u001b[38;5;124;43middx_2\u001b[39;49m\u001b[38;5;124;43m'\u001b[39;49m\u001b[43m,\u001b[49m\u001b[43m \u001b[49m\u001b[38;5;124;43m'\u001b[39;49m\u001b[38;5;124;43middx_3\u001b[39;49m\u001b[38;5;124;43m'\u001b[39;49m\u001b[43m,\u001b[49m\u001b[43m \u001b[49m\u001b[38;5;124;43m'\u001b[39;49m\u001b[38;5;124;43middx_4\u001b[39;49m\u001b[38;5;124;43m'\u001b[39;49m\u001b[43m,\u001b[49m\u001b[43m \u001b[49m\u001b[38;5;124;43m'\u001b[39;49m\u001b[38;5;124;43middx_5\u001b[39;49m\u001b[38;5;124;43m'\u001b[39;49m\u001b[43m,\u001b[49m\u001b[43m \u001b[49m\u001b[38;5;124;43m'\u001b[39;49m\u001b[38;5;124;43mmel_mitotic_index\u001b[39;49m\u001b[38;5;124;43m'\u001b[39;49m\u001b[43m,\u001b[49m\u001b[43m \u001b[49m\u001b[38;5;124;43m'\u001b[39;49m\u001b[38;5;124;43mmel_thick_mm\u001b[39;49m\u001b[38;5;124;43m'\u001b[39;49m\u001b[43m,\u001b[49m\u001b[43m \u001b[49m\u001b[38;5;124;43m'\u001b[39;49m\u001b[38;5;124;43mtbp_lv_dnn_lesion_confidence\u001b[39;49m\u001b[38;5;124;43m'\u001b[39;49m\u001b[43m,\u001b[49m\u001b[43m \u001b[49m\u001b[38;5;124;43m'\u001b[39;49m\u001b[38;5;124;43mPROC_use\u001b[39;49m\u001b[38;5;124;43m'\u001b[39;49m\u001b[43m,\u001b[49m\u001b[43m \u001b[49m\u001b[38;5;124;43m'\u001b[39;49m\u001b[38;5;124;43mPROC_source\u001b[39;49m\u001b[38;5;124;43m'\u001b[39;49m\u001b[43m,\u001b[49m\u001b[43m \u001b[49m\u001b[38;5;124;43m'\u001b[39;49m\u001b[38;5;124;43mdiagnosis\u001b[39;49m\u001b[38;5;124;43m'\u001b[39;49m\u001b[43m,\u001b[49m\u001b[43m \u001b[49m\u001b[38;5;124;43m'\u001b[39;49m\u001b[38;5;124;43mPROC_diag_inferred\u001b[39;49m\u001b[38;5;124;43m'\u001b[39;49m\u001b[43m,\u001b[49m\u001b[43m \u001b[49m\u001b[38;5;124;43m'\u001b[39;49m\u001b[38;5;124;43macquisition_day\u001b[39;49m\u001b[38;5;124;43m'\u001b[39;49m\u001b[43m,\u001b[49m\u001b[43m \u001b[49m\u001b[38;5;124;43m'\u001b[39;49m\u001b[38;5;124;43mconcomitant_biopsy\u001b[39;49m\u001b[38;5;124;43m'\u001b[39;49m\u001b[43m,\u001b[49m\u001b[43m \u001b[49m\u001b[38;5;124;43m'\u001b[39;49m\u001b[38;5;124;43mdermoscopic_type\u001b[39;49m\u001b[38;5;124;43m'\u001b[39;49m\u001b[43m,\u001b[49m\u001b[43m \u001b[49m\u001b[38;5;124;43m'\u001b[39;49m\u001b[38;5;124;43mdiagnosis_confirm_type\u001b[39;49m\u001b[38;5;124;43m'\u001b[39;49m\u001b[43m,\u001b[49m\u001b[43m \u001b[49m\u001b[38;5;124;43m'\u001b[39;49m\u001b[38;5;124;43mfamily_hx_mm\u001b[39;49m\u001b[38;5;124;43m'\u001b[39;49m\u001b[43m,\u001b[49m\u001b[43m \u001b[49m\u001b[38;5;124;43m'\u001b[39;49m\u001b[38;5;124;43mfitzpatrick_skin_type\u001b[39;49m\u001b[38;5;124;43m'\u001b[39;49m\u001b[43m,\u001b[49m\u001b[43m \u001b[49m\u001b[38;5;124;43m'\u001b[39;49m\u001b[38;5;124;43mmel_class\u001b[39;49m\u001b[38;5;124;43m'\u001b[39;49m\u001b[43m,\u001b[49m\u001b[43m \u001b[49m\u001b[38;5;124;43m'\u001b[39;49m\u001b[38;5;124;43mmel_type\u001b[39;49m\u001b[38;5;124;43m'\u001b[39;49m\u001b[43m,\u001b[49m\u001b[43m \u001b[49m\u001b[38;5;124;43m'\u001b[39;49m\u001b[38;5;124;43mmel_ulcer\u001b[39;49m\u001b[38;5;124;43m'\u001b[39;49m\u001b[43m,\u001b[49m\u001b[43m \u001b[49m\u001b[38;5;124;43m'\u001b[39;49m\u001b[38;5;124;43mmelanocytic\u001b[39;49m\u001b[38;5;124;43m'\u001b[39;49m\u001b[43m,\u001b[49m\u001b[43m \u001b[49m\u001b[38;5;124;43m'\u001b[39;49m\u001b[38;5;124;43mnevus_type\u001b[39;49m\u001b[38;5;124;43m'\u001b[39;49m\u001b[43m,\u001b[49m\u001b[43m \u001b[49m\u001b[38;5;124;43m'\u001b[39;49m\u001b[38;5;124;43mpersonal_hx_mm\u001b[39;49m\u001b[38;5;124;43m'\u001b[39;49m\u001b[43m,\u001b[49m\u001b[43m \u001b[49m\u001b[38;5;124;43m'\u001b[39;49m\u001b[38;5;124;43mpixels_x\u001b[39;49m\u001b[38;5;124;43m'\u001b[39;49m\u001b[43m,\u001b[49m\u001b[43m \u001b[49m\u001b[38;5;124;43m'\u001b[39;49m\u001b[38;5;124;43mpixels_y\u001b[39;49m\u001b[38;5;124;43m'\u001b[39;49m\u001b[43m,\u001b[49m\u001b[43m \u001b[49m\u001b[38;5;124;43m'\u001b[39;49m\u001b[38;5;124;43mPROC_label_inferred\u001b[39;49m\u001b[38;5;124;43m'\u001b[39;49m\u001b[43m]\u001b[49m\u001b[43m)\u001b[49m\n\u001b[0;32m      2\u001b[0m dataset\n",
      "File \u001b[1;32mc:\\Users\\win10\\AppData\\Local\\Programs\\Python\\Python311\\Lib\\site-packages\\datasets\\dataset_dict.py:364\u001b[0m, in \u001b[0;36mDatasetDict.remove_columns\u001b[1;34m(self, column_names)\u001b[0m\n\u001b[0;32m    325\u001b[0m \u001b[38;5;250m\u001b[39m\u001b[38;5;124;03m\"\"\"\u001b[39;00m\n\u001b[0;32m    326\u001b[0m \u001b[38;5;124;03mRemove one or several column(s) from each split in the dataset\u001b[39;00m\n\u001b[0;32m    327\u001b[0m \u001b[38;5;124;03mand the features associated to the column(s).\u001b[39;00m\n\u001b[1;32m   (...)\u001b[0m\n\u001b[0;32m    361\u001b[0m \u001b[38;5;124;03m```\u001b[39;00m\n\u001b[0;32m    362\u001b[0m \u001b[38;5;124;03m\"\"\"\u001b[39;00m\n\u001b[0;32m    363\u001b[0m \u001b[38;5;28mself\u001b[39m\u001b[38;5;241m.\u001b[39m_check_values_type()\n\u001b[1;32m--> 364\u001b[0m \u001b[38;5;28;01mreturn\u001b[39;00m DatasetDict(\u001b[43m{\u001b[49m\u001b[43mk\u001b[49m\u001b[43m:\u001b[49m\u001b[43m \u001b[49m\u001b[43mdataset\u001b[49m\u001b[38;5;241;43m.\u001b[39;49m\u001b[43mremove_columns\u001b[49m\u001b[43m(\u001b[49m\u001b[43mcolumn_names\u001b[49m\u001b[38;5;241;43m=\u001b[39;49m\u001b[43mcolumn_names\u001b[49m\u001b[43m)\u001b[49m\u001b[43m \u001b[49m\u001b[38;5;28;43;01mfor\u001b[39;49;00m\u001b[43m \u001b[49m\u001b[43mk\u001b[49m\u001b[43m,\u001b[49m\u001b[43m \u001b[49m\u001b[43mdataset\u001b[49m\u001b[43m \u001b[49m\u001b[38;5;129;43;01min\u001b[39;49;00m\u001b[43m \u001b[49m\u001b[38;5;28;43mself\u001b[39;49m\u001b[38;5;241;43m.\u001b[39;49m\u001b[43mitems\u001b[49m\u001b[43m(\u001b[49m\u001b[43m)\u001b[49m\u001b[43m}\u001b[49m)\n",
      "File \u001b[1;32mc:\\Users\\win10\\AppData\\Local\\Programs\\Python\\Python311\\Lib\\site-packages\\datasets\\dataset_dict.py:364\u001b[0m, in \u001b[0;36m<dictcomp>\u001b[1;34m(.0)\u001b[0m\n\u001b[0;32m    325\u001b[0m \u001b[38;5;250m\u001b[39m\u001b[38;5;124;03m\"\"\"\u001b[39;00m\n\u001b[0;32m    326\u001b[0m \u001b[38;5;124;03mRemove one or several column(s) from each split in the dataset\u001b[39;00m\n\u001b[0;32m    327\u001b[0m \u001b[38;5;124;03mand the features associated to the column(s).\u001b[39;00m\n\u001b[1;32m   (...)\u001b[0m\n\u001b[0;32m    361\u001b[0m \u001b[38;5;124;03m```\u001b[39;00m\n\u001b[0;32m    362\u001b[0m \u001b[38;5;124;03m\"\"\"\u001b[39;00m\n\u001b[0;32m    363\u001b[0m \u001b[38;5;28mself\u001b[39m\u001b[38;5;241m.\u001b[39m_check_values_type()\n\u001b[1;32m--> 364\u001b[0m \u001b[38;5;28;01mreturn\u001b[39;00m DatasetDict({k: \u001b[43mdataset\u001b[49m\u001b[38;5;241;43m.\u001b[39;49m\u001b[43mremove_columns\u001b[49m\u001b[43m(\u001b[49m\u001b[43mcolumn_names\u001b[49m\u001b[38;5;241;43m=\u001b[39;49m\u001b[43mcolumn_names\u001b[49m\u001b[43m)\u001b[49m \u001b[38;5;28;01mfor\u001b[39;00m k, dataset \u001b[38;5;129;01min\u001b[39;00m \u001b[38;5;28mself\u001b[39m\u001b[38;5;241m.\u001b[39mitems()})\n",
      "File \u001b[1;32mc:\\Users\\win10\\AppData\\Local\\Programs\\Python\\Python311\\Lib\\site-packages\\datasets\\arrow_dataset.py:560\u001b[0m, in \u001b[0;36mtransmit_format.<locals>.wrapper\u001b[1;34m(*args, **kwargs)\u001b[0m\n\u001b[0;32m    553\u001b[0m self_format \u001b[38;5;241m=\u001b[39m {\n\u001b[0;32m    554\u001b[0m     \u001b[38;5;124m\"\u001b[39m\u001b[38;5;124mtype\u001b[39m\u001b[38;5;124m\"\u001b[39m: \u001b[38;5;28mself\u001b[39m\u001b[38;5;241m.\u001b[39m_format_type,\n\u001b[0;32m    555\u001b[0m     \u001b[38;5;124m\"\u001b[39m\u001b[38;5;124mformat_kwargs\u001b[39m\u001b[38;5;124m\"\u001b[39m: \u001b[38;5;28mself\u001b[39m\u001b[38;5;241m.\u001b[39m_format_kwargs,\n\u001b[0;32m    556\u001b[0m     \u001b[38;5;124m\"\u001b[39m\u001b[38;5;124mcolumns\u001b[39m\u001b[38;5;124m\"\u001b[39m: \u001b[38;5;28mself\u001b[39m\u001b[38;5;241m.\u001b[39m_format_columns,\n\u001b[0;32m    557\u001b[0m     \u001b[38;5;124m\"\u001b[39m\u001b[38;5;124moutput_all_columns\u001b[39m\u001b[38;5;124m\"\u001b[39m: \u001b[38;5;28mself\u001b[39m\u001b[38;5;241m.\u001b[39m_output_all_columns,\n\u001b[0;32m    558\u001b[0m }\n\u001b[0;32m    559\u001b[0m \u001b[38;5;66;03m# apply actual function\u001b[39;00m\n\u001b[1;32m--> 560\u001b[0m out: Union[\u001b[38;5;124m\"\u001b[39m\u001b[38;5;124mDataset\u001b[39m\u001b[38;5;124m\"\u001b[39m, \u001b[38;5;124m\"\u001b[39m\u001b[38;5;124mDatasetDict\u001b[39m\u001b[38;5;124m\"\u001b[39m] \u001b[38;5;241m=\u001b[39m \u001b[43mfunc\u001b[49m\u001b[43m(\u001b[49m\u001b[38;5;28;43mself\u001b[39;49m\u001b[43m,\u001b[49m\u001b[43m \u001b[49m\u001b[38;5;241;43m*\u001b[39;49m\u001b[43margs\u001b[49m\u001b[43m,\u001b[49m\u001b[43m \u001b[49m\u001b[38;5;241;43m*\u001b[39;49m\u001b[38;5;241;43m*\u001b[39;49m\u001b[43mkwargs\u001b[49m\u001b[43m)\u001b[49m\n\u001b[0;32m    561\u001b[0m datasets: List[\u001b[38;5;124m\"\u001b[39m\u001b[38;5;124mDataset\u001b[39m\u001b[38;5;124m\"\u001b[39m] \u001b[38;5;241m=\u001b[39m \u001b[38;5;28mlist\u001b[39m(out\u001b[38;5;241m.\u001b[39mvalues()) \u001b[38;5;28;01mif\u001b[39;00m \u001b[38;5;28misinstance\u001b[39m(out, \u001b[38;5;28mdict\u001b[39m) \u001b[38;5;28;01melse\u001b[39;00m [out]\n\u001b[0;32m    562\u001b[0m \u001b[38;5;66;03m# re-apply format to the output\u001b[39;00m\n",
      "File \u001b[1;32mc:\\Users\\win10\\AppData\\Local\\Programs\\Python\\Python311\\Lib\\site-packages\\datasets\\fingerprint.py:442\u001b[0m, in \u001b[0;36mfingerprint_transform.<locals>._fingerprint.<locals>.wrapper\u001b[1;34m(*args, **kwargs)\u001b[0m\n\u001b[0;32m    438\u001b[0m             validate_fingerprint(kwargs[fingerprint_name])\n\u001b[0;32m    440\u001b[0m \u001b[38;5;66;03m# Call actual function\u001b[39;00m\n\u001b[1;32m--> 442\u001b[0m out \u001b[38;5;241m=\u001b[39m \u001b[43mfunc\u001b[49m\u001b[43m(\u001b[49m\u001b[43mdataset\u001b[49m\u001b[43m,\u001b[49m\u001b[43m \u001b[49m\u001b[38;5;241;43m*\u001b[39;49m\u001b[43margs\u001b[49m\u001b[43m,\u001b[49m\u001b[43m \u001b[49m\u001b[38;5;241;43m*\u001b[39;49m\u001b[38;5;241;43m*\u001b[39;49m\u001b[43mkwargs\u001b[49m\u001b[43m)\u001b[49m\n\u001b[0;32m    444\u001b[0m \u001b[38;5;66;03m# Update fingerprint of in-place transforms + update in-place history of transforms\u001b[39;00m\n\u001b[0;32m    446\u001b[0m \u001b[38;5;28;01mif\u001b[39;00m inplace:  \u001b[38;5;66;03m# update after calling func so that the fingerprint doesn't change if the function fails\u001b[39;00m\n",
      "File \u001b[1;32mc:\\Users\\win10\\AppData\\Local\\Programs\\Python\\Python311\\Lib\\site-packages\\datasets\\arrow_dataset.py:2146\u001b[0m, in \u001b[0;36mDataset.remove_columns\u001b[1;34m(self, column_names, new_fingerprint)\u001b[0m\n\u001b[0;32m   2144\u001b[0m missing_columns \u001b[38;5;241m=\u001b[39m \u001b[38;5;28mset\u001b[39m(column_names) \u001b[38;5;241m-\u001b[39m \u001b[38;5;28mset\u001b[39m(\u001b[38;5;28mself\u001b[39m\u001b[38;5;241m.\u001b[39m_data\u001b[38;5;241m.\u001b[39mcolumn_names)\n\u001b[0;32m   2145\u001b[0m \u001b[38;5;28;01mif\u001b[39;00m missing_columns:\n\u001b[1;32m-> 2146\u001b[0m     \u001b[38;5;28;01mraise\u001b[39;00m \u001b[38;5;167;01mValueError\u001b[39;00m(\n\u001b[0;32m   2147\u001b[0m         \u001b[38;5;124mf\u001b[39m\u001b[38;5;124m\"\u001b[39m\u001b[38;5;124mColumn name \u001b[39m\u001b[38;5;132;01m{\u001b[39;00m\u001b[38;5;28mlist\u001b[39m(missing_columns)\u001b[38;5;132;01m}\u001b[39;00m\u001b[38;5;124m not in the dataset. \u001b[39m\u001b[38;5;124m\"\u001b[39m\n\u001b[0;32m   2148\u001b[0m         \u001b[38;5;124mf\u001b[39m\u001b[38;5;124m\"\u001b[39m\u001b[38;5;124mCurrent columns in the dataset: \u001b[39m\u001b[38;5;132;01m{\u001b[39;00mdataset\u001b[38;5;241m.\u001b[39m_data\u001b[38;5;241m.\u001b[39mcolumn_names\u001b[38;5;132;01m}\u001b[39;00m\u001b[38;5;124m\"\u001b[39m\n\u001b[0;32m   2149\u001b[0m     )\n\u001b[0;32m   2151\u001b[0m \u001b[38;5;28;01mfor\u001b[39;00m column_name \u001b[38;5;129;01min\u001b[39;00m column_names:\n\u001b[0;32m   2152\u001b[0m     \u001b[38;5;28;01mdel\u001b[39;00m dataset\u001b[38;5;241m.\u001b[39m_info\u001b[38;5;241m.\u001b[39mfeatures[column_name]\n",
      "\u001b[1;31mValueError\u001b[0m: Column name ['sex', 'diagnosis', 'patient_id', 'iddx_full', 'tbp_lv_dnn_lesion_confidence', 'concomitant_biopsy', 'tbp_lv_radial_color_std_max', 'PROC_diag_inferred', 'mel_type', 'personal_hx_mm', 'tbp_lv_deltaLBnorm', 'nevus_type', 'tbp_lv_eccentricity', 'tbp_lv_minorAxisMM', 'mel_mitotic_index', 'PROC_label_inferred', 'copyright_license', 'fitzpatrick_skin_type', 'clin_size_long_diam_mm', 'tbp_lv_nevi_confidence', 'iddx_4', 'iddx_5', 'tbp_lv_symm_2axis_angle', 'tbp_lv_deltaL', 'tbp_lv_stdLExt', 'tbp_lv_z', 'tbp_lv_y', 'dermoscopic_type', 'tbp_lv_area_perim_ratio', 'mel_ulcer', 'tbp_lv_location', 'mel_thick_mm', 'tbp_lv_Lext', 'attribution', 'tbp_lv_symm_2axis', 'family_hx_mm', 'pixels_y', 'acquisition_day', 'pixels_x', 'PROC_source', 'tbp_lv_location_simple', 'tbp_lv_x', 'iddx_3', 'tbp_lv_C', 'tbp_lv_deltaB', 'tbp_lv_perimeterMM', 'PROC_use', 'tbp_lv_color_std_mean', 'diagnosis_confirm_type', 'tbp_lv_norm_border', 'iddx_2', 'tbp_lv_B', 'tbp_lv_L', 'tbp_lv_A', 'anatom_site_general', 'target', 'tbp_lv_stdL', 'tbp_lv_areaMM2', 'tbp_lv_deltaLB', 'age_approx', 'lesion_id', 'tbp_lv_Cext', 'image_type', 'tbp_tile_type', 'tbp_lv_deltaA', 'tbp_lv_Hext', 'iddx_1', 'tbp_lv_norm_color', 'melanocytic', 'mel_class', 'tbp_lv_Aext', 'tbp_lv_Bext', 'tbp_lv_H'] not in the dataset. Current columns in the dataset: ['isic_id', 'benign_malignant', 'label', 'image']"
     ]
    }
   ],
   "source": [
    "dataset = dataset.remove_columns(['target', 'patient_id', 'age_approx', 'sex', 'anatom_site_general', 'clin_size_long_diam_mm', 'image_type', 'tbp_tile_type', 'tbp_lv_A', 'tbp_lv_Aext', 'tbp_lv_B', 'tbp_lv_Bext', 'tbp_lv_C', 'tbp_lv_Cext', 'tbp_lv_H', 'tbp_lv_Hext', 'tbp_lv_L', 'tbp_lv_Lext', 'tbp_lv_areaMM2', 'tbp_lv_area_perim_ratio', 'tbp_lv_color_std_mean', 'tbp_lv_deltaA', 'tbp_lv_deltaB', 'tbp_lv_deltaL', 'tbp_lv_deltaLB', 'tbp_lv_deltaLBnorm', 'tbp_lv_eccentricity', 'tbp_lv_location', 'tbp_lv_location_simple', 'tbp_lv_minorAxisMM', 'tbp_lv_nevi_confidence', 'tbp_lv_norm_border', 'tbp_lv_norm_color', 'tbp_lv_perimeterMM', 'tbp_lv_radial_color_std_max', 'tbp_lv_stdL', 'tbp_lv_stdLExt', 'tbp_lv_symm_2axis', 'tbp_lv_symm_2axis_angle', 'tbp_lv_x', 'tbp_lv_y', 'tbp_lv_z', 'attribution', 'copyright_license', 'lesion_id', 'iddx_full', 'iddx_1', 'iddx_2', 'iddx_3', 'iddx_4', 'iddx_5', 'mel_mitotic_index', 'mel_thick_mm', 'tbp_lv_dnn_lesion_confidence', 'PROC_use', 'PROC_source', 'diagnosis', 'PROC_diag_inferred', 'acquisition_day', 'concomitant_biopsy', 'dermoscopic_type', 'diagnosis_confirm_type', 'family_hx_mm', 'fitzpatrick_skin_type', 'mel_class', 'mel_type', 'mel_ulcer', 'melanocytic', 'nevus_type', 'personal_hx_mm', 'pixels_x', 'pixels_y', 'PROC_label_inferred'])"
   ]
  },
  {
   "cell_type": "code",
   "execution_count": 8,
   "metadata": {},
   "outputs": [
    {
     "data": {
      "text/plain": [
       "DatasetDict({\n",
       "    train: Dataset({\n",
       "        features: ['isic_id', 'benign_malignant', 'label', 'image'],\n",
       "        num_rows: 71422\n",
       "    })\n",
       "    validation: Dataset({\n",
       "        features: ['isic_id', 'benign_malignant', 'label', 'image'],\n",
       "        num_rows: 9753\n",
       "    })\n",
       "    test: Dataset({\n",
       "        features: ['isic_id', 'benign_malignant', 'label', 'image'],\n",
       "        num_rows: 8103\n",
       "    })\n",
       "})"
      ]
     },
     "execution_count": 8,
     "metadata": {},
     "output_type": "execute_result"
    }
   ],
   "source": [
    "dataset"
   ]
  },
  {
   "cell_type": "code",
   "execution_count": 10,
   "metadata": {},
   "outputs": [
    {
     "name": "stdout",
     "output_type": "stream",
     "text": [
      "Benign count: 6423\n",
      "Malignant count: 873\n",
      "Invalid isic_ids: ['ISIC_5490257', 'ISIC_0435215', 'ISIC_9569039', 'ISIC_6327722', 'ISIC_3182805', 'ISIC_6551901', 'ISIC_7980127', 'ISIC_0073228', 'ISIC_0073224', 'ISIC_0073137', 'ISIC_0073110', 'ISIC_0073081', 'ISIC_0073068', 'ISIC_0073066', 'ISIC_0073048', 'ISIC_0072932', 'ISIC_0072905', 'ISIC_0072830', 'ISIC_0072776', 'ISIC_0072761', 'ISIC_0072744', 'ISIC_0072709', 'ISIC_0072666', 'ISIC_0072658', 'ISIC_0072651', 'ISIC_0072625', 'ISIC_0072620', 'ISIC_0072616', 'ISIC_0072599', 'ISIC_0072515', 'ISIC_0072499', 'ISIC_0072479', 'ISIC_0072461', 'ISIC_0072450', 'ISIC_0072421', 'ISIC_0072370', 'ISIC_0072361', 'ISIC_0072359', 'ISIC_0072296', 'ISIC_0072262', 'ISIC_0072193', 'ISIC_0072075', 'ISIC_0072066', 'ISIC_0072058', 'ISIC_0072050', 'ISIC_0071912', 'ISIC_0071905', 'ISIC_0071885', 'ISIC_0071847', 'ISIC_0071843', 'ISIC_0071795', 'ISIC_0071709', 'ISIC_0071690', 'ISIC_0071672', 'ISIC_0071631', 'ISIC_0071565', 'ISIC_0071557', 'ISIC_0071466', 'ISIC_0071459', 'ISIC_0071438', 'ISIC_0071418', 'ISIC_0071416', 'ISIC_0071400', 'ISIC_0071398', 'ISIC_0071255', 'ISIC_0071236', 'ISIC_0071190', 'ISIC_0071170', 'ISIC_0071155', 'ISIC_0071147', 'ISIC_0071102', 'ISIC_0071087', 'ISIC_0071054', 'ISIC_0071023', 'ISIC_0071020', 'ISIC_0071008', 'ISIC_0070988', 'ISIC_0070966', 'ISIC_0070949', 'ISIC_0070909', 'ISIC_0070907', 'ISIC_0070843', 'ISIC_0070825', 'ISIC_0070772', 'ISIC_0070748', 'ISIC_0070728', 'ISIC_0070646', 'ISIC_0070622', 'ISIC_0070619', 'ISIC_0070616', 'ISIC_0070592', 'ISIC_0070565', 'ISIC_0070529', 'ISIC_0070511', 'ISIC_0070508', 'ISIC_0070490', 'ISIC_0070386', 'ISIC_0070328', 'ISIC_0070315', 'ISIC_0070305', 'ISIC_0070261', 'ISIC_0070245', 'ISIC_0070236', 'ISIC_0070183', 'ISIC_0070150', 'ISIC_0070128', 'ISIC_0070073', 'ISIC_0069917', 'ISIC_0069875', 'ISIC_0069843', 'ISIC_0069836', 'ISIC_0069806', 'ISIC_0069790', 'ISIC_0069732', 'ISIC_0069724', 'ISIC_0069715', 'ISIC_0069659', 'ISIC_0069588', 'ISIC_0069582', 'ISIC_0069535', 'ISIC_0069485', 'ISIC_0069465', 'ISIC_0069443', 'ISIC_0069433', 'ISIC_0069352', 'ISIC_0069316', 'ISIC_0069307', 'ISIC_0069289', 'ISIC_0069271', 'ISIC_0069249', 'ISIC_0069221', 'ISIC_0069201', 'ISIC_0069109', 'ISIC_0069043', 'ISIC_0069023', 'ISIC_0068797', 'ISIC_0068722', 'ISIC_0068708', 'ISIC_0068687', 'ISIC_0068597', 'ISIC_0068585', 'ISIC_0068559', 'ISIC_0068536', 'ISIC_0068529', 'ISIC_0068496', 'ISIC_0068467', 'ISIC_0068400', 'ISIC_0068369', 'ISIC_0068367', 'ISIC_0068353', 'ISIC_0068352', 'ISIC_0068334', 'ISIC_0068325', 'ISIC_0068260', 'ISIC_0068243', 'ISIC_0068160', 'ISIC_0068142', 'ISIC_0068124', 'ISIC_0068087', 'ISIC_0068052', 'ISIC_0067989', 'ISIC_0067956', 'ISIC_0067882', 'ISIC_0067803', 'ISIC_0067784', 'ISIC_0067746', 'ISIC_0067740', 'ISIC_0067604', 'ISIC_0067600', 'ISIC_0067599', 'ISIC_0067464', 'ISIC_0067426', 'ISIC_0067400', 'ISIC_0067304', 'ISIC_0067283', 'ISIC_0067153', 'ISIC_0067080', 'ISIC_0067070', 'ISIC_0067049', 'ISIC_0067039', 'ISIC_0067035', 'ISIC_0067021', 'ISIC_0066990', 'ISIC_0066988', 'ISIC_0066938', 'ISIC_0066920', 'ISIC_0066858', 'ISIC_0066857', 'ISIC_0066825', 'ISIC_0066819', 'ISIC_0066810', 'ISIC_0066799', 'ISIC_0066747', 'ISIC_0066737', 'ISIC_0066727', 'ISIC_0066696', 'ISIC_0066648', 'ISIC_0066620', 'ISIC_0066575', 'ISIC_0066572', 'ISIC_0066569', 'ISIC_0066509', 'ISIC_0066504', 'ISIC_0066469', 'ISIC_0066446', 'ISIC_0066413', 'ISIC_0066392', 'ISIC_0066381', 'ISIC_0066297', 'ISIC_0066290', 'ISIC_0066258', 'ISIC_0066218', 'ISIC_0066132', 'ISIC_0066072', 'ISIC_0065901', 'ISIC_0065874', 'ISIC_0065828', 'ISIC_0065757', 'ISIC_0065744', 'ISIC_0065724', 'ISIC_0065664', 'ISIC_0065648', 'ISIC_0065628', 'ISIC_0065546', 'ISIC_0065453', 'ISIC_0065432', 'ISIC_0065361', 'ISIC_0065276', 'ISIC_0065221', 'ISIC_0065179', 'ISIC_0065174', 'ISIC_0065153', 'ISIC_0065116', 'ISIC_0065095', 'ISIC_0065082', 'ISIC_0065050', 'ISIC_0065031', 'ISIC_0064998', 'ISIC_0064977', 'ISIC_0064960', 'ISIC_0064735', 'ISIC_0064734', 'ISIC_0064725', 'ISIC_0064695', 'ISIC_0064685', 'ISIC_0064684', 'ISIC_0064655', 'ISIC_0064621', 'ISIC_0064605', 'ISIC_0064584', 'ISIC_0064529', 'ISIC_0064519', 'ISIC_0064511', 'ISIC_0064502', 'ISIC_0064439', 'ISIC_0064340', 'ISIC_0064305', 'ISIC_0064285', 'ISIC_0064283', 'ISIC_0064280', 'ISIC_0064262', 'ISIC_0064183', 'ISIC_0064137', 'ISIC_0064101', 'ISIC_0064022', 'ISIC_0064016', 'ISIC_0063985', 'ISIC_0063964', 'ISIC_0063927', 'ISIC_0063905', 'ISIC_0063877', 'ISIC_0063825', 'ISIC_0063822', 'ISIC_0063809', 'ISIC_0063803', 'ISIC_0063783', 'ISIC_0063778', 'ISIC_0063758', 'ISIC_0063739', 'ISIC_0063730', 'ISIC_0063714', 'ISIC_0063710', 'ISIC_0063631', 'ISIC_0063610', 'ISIC_0063571', 'ISIC_0063542', 'ISIC_0063519', 'ISIC_0063510', 'ISIC_0063433', 'ISIC_0063382', 'ISIC_0063368', 'ISIC_0063361', 'ISIC_0063355', 'ISIC_0063293', 'ISIC_0063275', 'ISIC_0063265', 'ISIC_0063250', 'ISIC_0063217', 'ISIC_0063085', 'ISIC_0063038', 'ISIC_0063036', 'ISIC_0063004', 'ISIC_0062940', 'ISIC_0062918', 'ISIC_0062874', 'ISIC_0062868', 'ISIC_0062830', 'ISIC_0062823', 'ISIC_0062807', 'ISIC_0062753', 'ISIC_0062743', 'ISIC_0062733', 'ISIC_0062722', 'ISIC_0062666', 'ISIC_0062623', 'ISIC_0062581', 'ISIC_0062480', 'ISIC_0062479', 'ISIC_0062473', 'ISIC_0062371', 'ISIC_0062358', 'ISIC_0062356', 'ISIC_0062351', 'ISIC_0062258', 'ISIC_0062238', 'ISIC_0062199', 'ISIC_0062191', 'ISIC_0062184', 'ISIC_0062165', 'ISIC_0062110', 'ISIC_0062096', 'ISIC_0062082', 'ISIC_0062021', 'ISIC_0061999', 'ISIC_0061993', 'ISIC_0061937', 'ISIC_0061934', 'ISIC_0061891', 'ISIC_0061879', 'ISIC_0061866', 'ISIC_0061785', 'ISIC_0061774', 'ISIC_0061730', 'ISIC_0061725', 'ISIC_0061708', 'ISIC_0061696', 'ISIC_0061679', 'ISIC_0061615', 'ISIC_0061589', 'ISIC_0061587', 'ISIC_0061550', 'ISIC_0061511', 'ISIC_0061376', 'ISIC_0061348', 'ISIC_0061331', 'ISIC_0061280', 'ISIC_0061277', 'ISIC_0061276', 'ISIC_0061238', 'ISIC_0061197', 'ISIC_0061192', 'ISIC_0061177', 'ISIC_0061175', 'ISIC_0061171', 'ISIC_0061157', 'ISIC_0061148', 'ISIC_0061110', 'ISIC_0061046', 'ISIC_0060926', 'ISIC_0060914', 'ISIC_0060902', 'ISIC_0060881', 'ISIC_0060879', 'ISIC_0060761', 'ISIC_0060748', 'ISIC_0060606', 'ISIC_0060590', 'ISIC_0060533', 'ISIC_0060382', 'ISIC_0060337', 'ISIC_0060320', 'ISIC_0060230', 'ISIC_0060198', 'ISIC_0060193', 'ISIC_0060180', 'ISIC_0060162', 'ISIC_0060129', 'ISIC_0060081', 'ISIC_0060063', 'ISIC_0059999', 'ISIC_0059863', 'ISIC_0059852', 'ISIC_0059815', 'ISIC_0059802', 'ISIC_0059755', 'ISIC_0059741', 'ISIC_0059688', 'ISIC_0059657', 'ISIC_0059656', 'ISIC_0059644', 'ISIC_0059617', 'ISIC_0059598', 'ISIC_0059516', 'ISIC_0059460', 'ISIC_0059455', 'ISIC_0059405', 'ISIC_0059388', 'ISIC_0059378', 'ISIC_0059374', 'ISIC_0059333', 'ISIC_0059323', 'ISIC_0059298', 'ISIC_0059275', 'ISIC_0059231', 'ISIC_0059198', 'ISIC_0059192', 'ISIC_0059152', 'ISIC_0059115', 'ISIC_0059105', 'ISIC_0059094', 'ISIC_0059070', 'ISIC_0059028', 'ISIC_0059017', 'ISIC_0059012', 'ISIC_0058966', 'ISIC_0058939', 'ISIC_0058934', 'ISIC_0058924', 'ISIC_0058847', 'ISIC_0058776', 'ISIC_0058765', 'ISIC_0058735', 'ISIC_0058689', 'ISIC_0058611', 'ISIC_0058593', 'ISIC_0058567', 'ISIC_0058565', 'ISIC_0058379', 'ISIC_0058335', 'ISIC_0058325', 'ISIC_0058304', 'ISIC_0058227', 'ISIC_0058193', 'ISIC_0058061', 'ISIC_0057962', 'ISIC_0057915', 'ISIC_0057905', 'ISIC_0057901', 'ISIC_0057834', 'ISIC_0057820', 'ISIC_0057798', 'ISIC_0057698', 'ISIC_0057679', 'ISIC_0057646', 'ISIC_0057638', 'ISIC_0057627', 'ISIC_0057604', 'ISIC_0057592', 'ISIC_0057517', 'ISIC_0057492', 'ISIC_0057426', 'ISIC_0057361', 'ISIC_0057359', 'ISIC_0057352', 'ISIC_0057050', 'ISIC_0057042', 'ISIC_0057038', 'ISIC_0057029', 'ISIC_0056990', 'ISIC_0056976', 'ISIC_0056927', 'ISIC_0056906', 'ISIC_0056824', 'ISIC_0056810', 'ISIC_0056767', 'ISIC_0056586', 'ISIC_0056571', 'ISIC_0056563', 'ISIC_0056463', 'ISIC_0056372', 'ISIC_0056310', 'ISIC_0056287', 'ISIC_0056264', 'ISIC_0056241', 'ISIC_0056231', 'ISIC_0056139', 'ISIC_0056100', 'ISIC_0056037', 'ISIC_0055982', 'ISIC_0055886', 'ISIC_0055816', 'ISIC_0055815', 'ISIC_0055806', 'ISIC_0055773', 'ISIC_0055748', 'ISIC_0055718', 'ISIC_0055681', 'ISIC_0055679', 'ISIC_0055663', 'ISIC_0055641', 'ISIC_0055600', 'ISIC_0055529', 'ISIC_0055473', 'ISIC_0055434', 'ISIC_0055415', 'ISIC_0055399', 'ISIC_0055234', 'ISIC_0055221', 'ISIC_0055218', 'ISIC_0055194', 'ISIC_0055107', 'ISIC_0055085', 'ISIC_0055021', 'ISIC_0055000', 'ISIC_0054951', 'ISIC_0054942', 'ISIC_0054935', 'ISIC_0054924', 'ISIC_0054899', 'ISIC_0054882', 'ISIC_0054879', 'ISIC_0054855', 'ISIC_0054773', 'ISIC_0054739', 'ISIC_0054720', 'ISIC_0054644', 'ISIC_0054623', 'ISIC_0054619', 'ISIC_0054607', 'ISIC_0054589', 'ISIC_0054487', 'ISIC_0054436', 'ISIC_0054432', 'ISIC_0054338', 'ISIC_0054295', 'ISIC_0054265', 'ISIC_0054234', 'ISIC_0054156', 'ISIC_0054081', 'ISIC_0054063', 'ISIC_0054060', 'ISIC_0054031', 'ISIC_0053993', 'ISIC_0053944', 'ISIC_0053928', 'ISIC_0053885', 'ISIC_0053857', 'ISIC_0053817', 'ISIC_0053813', 'ISIC_0053733', 'ISIC_0053697', 'ISIC_0053678', 'ISIC_0053653', 'ISIC_0053648', 'ISIC_0053552', 'ISIC_0053549', 'ISIC_0053463', 'ISIC_0036021', 'ISIC_0036002', 'ISIC_0035919', 'ISIC_0035915', 'ISIC_0035882', 'ISIC_0035761', 'ISIC_0035750', 'ISIC_0035701', 'ISIC_0035643', 'ISIC_0035511', 'ISIC_0035466', 'ISIC_0035463', 'ISIC_0035436', 'ISIC_0035376', 'ISIC_0035338', 'ISIC_0035147', 'ISIC_0035028', 'ISIC_0034954', 'ISIC_0034952', 'ISIC_0034937', 'ISIC_0034825', 'ISIC_0034814', 'ISIC_0034758', 'ISIC_0034692', 'ISIC_0034614', 'ISIC_0034545', 'ISIC_0034521', 'ISIC_0034486', 'ISIC_0034375', 'ISIC_0034315', 'ISIC_0034214', 'ISIC_0034161', 'ISIC_0034031', 'ISIC_0033991', 'ISIC_0033910', 'ISIC_0033899', 'ISIC_0033808', 'ISIC_0033784', 'ISIC_0033749', 'ISIC_0033701', 'ISIC_0033676', 'ISIC_0033631', 'ISIC_0033613', 'ISIC_0033587', 'ISIC_0033539', 'ISIC_0033536', 'ISIC_0033504', 'ISIC_0033491', 'ISIC_0033200', 'ISIC_0033088', 'ISIC_0033060', 'ISIC_0033001', 'ISIC_0032894', 'ISIC_0032867', 'ISIC_0032866', 'ISIC_0032857', 'ISIC_0032826', 'ISIC_0032642', 'ISIC_0032576', 'ISIC_0032538', 'ISIC_0032422', 'ISIC_0032395', 'ISIC_0032314', 'ISIC_0032280', 'ISIC_0032225', 'ISIC_0032114', 'ISIC_0031951', 'ISIC_0031918', 'ISIC_0031876', 'ISIC_0031874', 'ISIC_0031743', 'ISIC_0031672', 'ISIC_0031648', 'ISIC_0031556', 'ISIC_0031513', 'ISIC_0031464', 'ISIC_0031424', 'ISIC_0031381', 'ISIC_0031345', 'ISIC_0031286', 'ISIC_0031271', 'ISIC_0031270', 'ISIC_0031257', 'ISIC_0031108', 'ISIC_0031095', 'ISIC_0031065', 'ISIC_0031063', 'ISIC_0031029', 'ISIC_0031026', 'ISIC_0030915', 'ISIC_0030893', 'ISIC_0030876', 'ISIC_0030844', 'ISIC_0030821', 'ISIC_0030721', 'ISIC_0030705', 'ISIC_0030687', 'ISIC_0030636', 'ISIC_0030487', 'ISIC_0030463', 'ISIC_0030459', 'ISIC_0030403', 'ISIC_0030344', 'ISIC_0030321', 'ISIC_0030258', 'ISIC_0030242', 'ISIC_0030142', 'ISIC_0030056', 'ISIC_0030026', 'ISIC_0029931', 'ISIC_0029912', 'ISIC_0029877', 'ISIC_0029872', 'ISIC_0029810', 'ISIC_0029789', 'ISIC_0029524', 'ISIC_0029518', 'ISIC_0029515', 'ISIC_0029460', 'ISIC_0029404', 'ISIC_0029394', 'ISIC_0029345', 'ISIC_0029341', 'ISIC_0029337', 'ISIC_0029289', 'ISIC_0029270', 'ISIC_0029260', 'ISIC_0029177', 'ISIC_0029100', 'ISIC_0029099', 'ISIC_0029082', 'ISIC_0029062', 'ISIC_0029059', 'ISIC_0029041', 'ISIC_0029020', 'ISIC_0029003', 'ISIC_0028995', 'ISIC_0028972', 'ISIC_0028926', 'ISIC_0028816', 'ISIC_0028807', 'ISIC_0028728', 'ISIC_0028653', 'ISIC_0028640', 'ISIC_0028550', 'ISIC_0028479', 'ISIC_0028229', 'ISIC_0028147', 'ISIC_0028132', 'ISIC_0028095', 'ISIC_0028094', 'ISIC_0028080', 'ISIC_0028050', 'ISIC_0028043', 'ISIC_0027973', 'ISIC_0027916', 'ISIC_0027903', 'ISIC_0027865', 'ISIC_0027858', 'ISIC_0027806', 'ISIC_0027739', 'ISIC_0027722', 'ISIC_0027678', 'ISIC_0027672', 'ISIC_0027649', 'ISIC_0027606', 'ISIC_0027473', 'ISIC_0027455', 'ISIC_0027344', 'ISIC_0027192', 'ISIC_0027188', 'ISIC_0027162', 'ISIC_0027159', 'ISIC_0027117', 'ISIC_0027083', 'ISIC_0027017', 'ISIC_0026988', 'ISIC_0026981', 'ISIC_0026968', 'ISIC_0026893', 'ISIC_0026857', 'ISIC_0026829', 'ISIC_0026766', 'ISIC_0026765', 'ISIC_0026704', 'ISIC_0026693', 'ISIC_0026634', 'ISIC_0026631', 'ISIC_0026549', 'ISIC_0026514', 'ISIC_0026511', 'ISIC_0026466', 'ISIC_0026441', 'ISIC_0026362', 'ISIC_0026350', 'ISIC_0026254', 'ISIC_0026213', 'ISIC_0026212', 'ISIC_0026132', 'ISIC_0026044', 'ISIC_0025986', 'ISIC_0025932', 'ISIC_0025879', 'ISIC_0025838', 'ISIC_0025825', 'ISIC_0025824', 'ISIC_0025803', 'ISIC_0025752', 'ISIC_0025712', 'ISIC_0025703', 'ISIC_0025668', 'ISIC_0025628', 'ISIC_0025622', 'ISIC_0025612', 'ISIC_0025431', 'ISIC_0025427', 'ISIC_0025389', 'ISIC_0025387', 'ISIC_0025351', 'ISIC_0025275', 'ISIC_0025266', 'ISIC_0025089', 'ISIC_0025086', 'ISIC_0024925', 'ISIC_0024832', 'ISIC_0024825', 'ISIC_0024787', 'ISIC_0024786', 'ISIC_0024773', 'ISIC_0024760', 'ISIC_0024758', 'ISIC_0024710', 'ISIC_0024654', 'ISIC_0024634', 'ISIC_0024592', 'ISIC_0024590', 'ISIC_0024572', 'ISIC_0024457', 'ISIC_0016101', 'ISIC_0014737', 'ISIC_0014528', 'ISIC_0014443', 'ISIC_0014206', 'ISIC_0014003', 'ISIC_0013404', 'ISIC_0013284', 'ISIC_0013009', 'ISIC_0012667', 'ISIC_0012590', 'ISIC_0011054']\n"
     ]
    }
   ],
   "source": [
    "def count_benign_malignant(dataset, label_column='benign_malignant', id_column='isic_id'):\n",
    "    # Initialize counters for benign and malignant\n",
    "    benign_count = 0\n",
    "    malignant_count = 0\n",
    "    \n",
    "    # List to store invalid isic_ids\n",
    "    invalid_isic_ids = []\n",
    "\n",
    "    # Iterate over the dataset\n",
    "    for row in dataset:\n",
    "        label = row[label_column]\n",
    "        \n",
    "        # Count benign and malignant\n",
    "        if label == 'benign':\n",
    "            benign_count += 1\n",
    "        elif label == 'malignant':\n",
    "            malignant_count += 1\n",
    "        else:\n",
    "            # If the label is neither 'benign' nor 'malignant', save the isic_id\n",
    "            invalid_isic_ids.append(row[id_column])\n",
    "    \n",
    "    # Print the results\n",
    "    print(f\"Benign count: {benign_count}\")\n",
    "    print(f\"Malignant count: {malignant_count}\")\n",
    "    print(f\"Invalid isic_ids: {invalid_isic_ids}\")\n",
    "\n",
    "# Example usage\n",
    "count_benign_malignant(dataset['test'])"
   ]
  },
  {
   "cell_type": "code",
   "execution_count": 9,
   "metadata": {},
   "outputs": [
    {
     "data": {
      "text/plain": [
       "Dataset({\n",
       "    features: ['isic_id', 'benign_malignant', 'label', 'image'],\n",
       "    num_rows: 71422\n",
       "})"
      ]
     },
     "execution_count": 9,
     "metadata": {},
     "output_type": "execute_result"
    }
   ],
   "source": [
    "dataset[\"train\"]"
   ]
  },
  {
   "cell_type": "code",
   "execution_count": 18,
   "metadata": {},
   "outputs": [],
   "source": [
    "train_iterable_dataset = dataset['train'].to_iterable_dataset()\n",
    "test_iterable_dataset = dataset['test'].to_iterable_dataset()"
   ]
  },
  {
   "cell_type": "code",
   "execution_count": 21,
   "metadata": {},
   "outputs": [
    {
     "name": "stderr",
     "output_type": "stream",
     "text": [
      "Map:  27%|██▋       | 19000/71422 [01:47<04:57, 176.43 examples/s]\n"
     ]
    },
    {
     "ename": "OSError",
     "evalue": "[Errno 28] No space left on device",
     "output_type": "error",
     "traceback": [
      "\u001b[1;31m---------------------------------------------------------------------------\u001b[0m",
      "\u001b[1;31mOSError\u001b[0m                                   Traceback (most recent call last)",
      "Cell \u001b[1;32mIn[21], line 68\u001b[0m\n\u001b[0;32m     64\u001b[0m     \u001b[38;5;28;01mreturn\u001b[39;00m dataset\u001b[38;5;241m.\u001b[39mselect(final_indices)\n\u001b[0;32m     66\u001b[0m \u001b[38;5;66;03m# Example usage:\u001b[39;00m\n\u001b[0;32m     67\u001b[0m \u001b[38;5;66;03m# First check the counts\u001b[39;00m\n\u001b[1;32m---> 68\u001b[0m counts \u001b[38;5;241m=\u001b[39m \u001b[43mcount_samples\u001b[49m\u001b[43m(\u001b[49m\u001b[43mdataset\u001b[49m\u001b[43m[\u001b[49m\u001b[38;5;124;43m'\u001b[39;49m\u001b[38;5;124;43mtrain\u001b[39;49m\u001b[38;5;124;43m'\u001b[39;49m\u001b[43m]\u001b[49m\u001b[43m)\u001b[49m\n\u001b[0;32m     69\u001b[0m \u001b[38;5;28mprint\u001b[39m(\u001b[38;5;124mf\u001b[39m\u001b[38;5;124m\"\u001b[39m\u001b[38;5;124mOriginal dataset counts: \u001b[39m\u001b[38;5;132;01m{\u001b[39;00mcounts\u001b[38;5;132;01m}\u001b[39;00m\u001b[38;5;124m\"\u001b[39m)\n",
      "Cell \u001b[1;32mIn[21], line 14\u001b[0m, in \u001b[0;36mcount_samples\u001b[1;34m(dataset)\u001b[0m\n\u001b[0;32m     11\u001b[0m     \u001b[38;5;28;01mreturn\u001b[39;00m batch\n\u001b[0;32m     13\u001b[0m \u001b[38;5;66;03m# Count in batches\u001b[39;00m\n\u001b[1;32m---> 14\u001b[0m \u001b[43mdataset\u001b[49m\u001b[38;5;241;43m.\u001b[39;49m\u001b[43mmap\u001b[49m\u001b[43m(\u001b[49m\u001b[43mcount_batch\u001b[49m\u001b[43m,\u001b[49m\u001b[43m \u001b[49m\u001b[43mbatched\u001b[49m\u001b[38;5;241;43m=\u001b[39;49m\u001b[38;5;28;43;01mTrue\u001b[39;49;00m\u001b[43m,\u001b[49m\u001b[43m \u001b[49m\u001b[43mbatch_size\u001b[49m\u001b[38;5;241;43m=\u001b[39;49m\u001b[38;5;241;43m1000\u001b[39;49m\u001b[43m)\u001b[49m\n\u001b[0;32m     15\u001b[0m \u001b[38;5;28;01mreturn\u001b[39;00m counts\n",
      "File \u001b[1;32mc:\\Users\\win10\\AppData\\Local\\Programs\\Python\\Python311\\Lib\\site-packages\\datasets\\arrow_dataset.py:560\u001b[0m, in \u001b[0;36mtransmit_format.<locals>.wrapper\u001b[1;34m(*args, **kwargs)\u001b[0m\n\u001b[0;32m    553\u001b[0m self_format \u001b[38;5;241m=\u001b[39m {\n\u001b[0;32m    554\u001b[0m     \u001b[38;5;124m\"\u001b[39m\u001b[38;5;124mtype\u001b[39m\u001b[38;5;124m\"\u001b[39m: \u001b[38;5;28mself\u001b[39m\u001b[38;5;241m.\u001b[39m_format_type,\n\u001b[0;32m    555\u001b[0m     \u001b[38;5;124m\"\u001b[39m\u001b[38;5;124mformat_kwargs\u001b[39m\u001b[38;5;124m\"\u001b[39m: \u001b[38;5;28mself\u001b[39m\u001b[38;5;241m.\u001b[39m_format_kwargs,\n\u001b[0;32m    556\u001b[0m     \u001b[38;5;124m\"\u001b[39m\u001b[38;5;124mcolumns\u001b[39m\u001b[38;5;124m\"\u001b[39m: \u001b[38;5;28mself\u001b[39m\u001b[38;5;241m.\u001b[39m_format_columns,\n\u001b[0;32m    557\u001b[0m     \u001b[38;5;124m\"\u001b[39m\u001b[38;5;124moutput_all_columns\u001b[39m\u001b[38;5;124m\"\u001b[39m: \u001b[38;5;28mself\u001b[39m\u001b[38;5;241m.\u001b[39m_output_all_columns,\n\u001b[0;32m    558\u001b[0m }\n\u001b[0;32m    559\u001b[0m \u001b[38;5;66;03m# apply actual function\u001b[39;00m\n\u001b[1;32m--> 560\u001b[0m out: Union[\u001b[38;5;124m\"\u001b[39m\u001b[38;5;124mDataset\u001b[39m\u001b[38;5;124m\"\u001b[39m, \u001b[38;5;124m\"\u001b[39m\u001b[38;5;124mDatasetDict\u001b[39m\u001b[38;5;124m\"\u001b[39m] \u001b[38;5;241m=\u001b[39m \u001b[43mfunc\u001b[49m\u001b[43m(\u001b[49m\u001b[38;5;28;43mself\u001b[39;49m\u001b[43m,\u001b[49m\u001b[43m \u001b[49m\u001b[38;5;241;43m*\u001b[39;49m\u001b[43margs\u001b[49m\u001b[43m,\u001b[49m\u001b[43m \u001b[49m\u001b[38;5;241;43m*\u001b[39;49m\u001b[38;5;241;43m*\u001b[39;49m\u001b[43mkwargs\u001b[49m\u001b[43m)\u001b[49m\n\u001b[0;32m    561\u001b[0m datasets: List[\u001b[38;5;124m\"\u001b[39m\u001b[38;5;124mDataset\u001b[39m\u001b[38;5;124m\"\u001b[39m] \u001b[38;5;241m=\u001b[39m \u001b[38;5;28mlist\u001b[39m(out\u001b[38;5;241m.\u001b[39mvalues()) \u001b[38;5;28;01mif\u001b[39;00m \u001b[38;5;28misinstance\u001b[39m(out, \u001b[38;5;28mdict\u001b[39m) \u001b[38;5;28;01melse\u001b[39;00m [out]\n\u001b[0;32m    562\u001b[0m \u001b[38;5;66;03m# re-apply format to the output\u001b[39;00m\n",
      "File \u001b[1;32mc:\\Users\\win10\\AppData\\Local\\Programs\\Python\\Python311\\Lib\\site-packages\\datasets\\arrow_dataset.py:3055\u001b[0m, in \u001b[0;36mDataset.map\u001b[1;34m(self, function, with_indices, with_rank, input_columns, batched, batch_size, drop_last_batch, remove_columns, keep_in_memory, load_from_cache_file, cache_file_name, writer_batch_size, features, disable_nullable, fn_kwargs, num_proc, suffix_template, new_fingerprint, desc)\u001b[0m\n\u001b[0;32m   3049\u001b[0m \u001b[38;5;28;01mif\u001b[39;00m transformed_dataset \u001b[38;5;129;01mis\u001b[39;00m \u001b[38;5;28;01mNone\u001b[39;00m:\n\u001b[0;32m   3050\u001b[0m     \u001b[38;5;28;01mwith\u001b[39;00m hf_tqdm(\n\u001b[0;32m   3051\u001b[0m         unit\u001b[38;5;241m=\u001b[39m\u001b[38;5;124m\"\u001b[39m\u001b[38;5;124m examples\u001b[39m\u001b[38;5;124m\"\u001b[39m,\n\u001b[0;32m   3052\u001b[0m         total\u001b[38;5;241m=\u001b[39mpbar_total,\n\u001b[0;32m   3053\u001b[0m         desc\u001b[38;5;241m=\u001b[39mdesc \u001b[38;5;129;01mor\u001b[39;00m \u001b[38;5;124m\"\u001b[39m\u001b[38;5;124mMap\u001b[39m\u001b[38;5;124m\"\u001b[39m,\n\u001b[0;32m   3054\u001b[0m     ) \u001b[38;5;28;01mas\u001b[39;00m pbar:\n\u001b[1;32m-> 3055\u001b[0m \u001b[43m        \u001b[49m\u001b[38;5;28;43;01mfor\u001b[39;49;00m\u001b[43m \u001b[49m\u001b[43mrank\u001b[49m\u001b[43m,\u001b[49m\u001b[43m \u001b[49m\u001b[43mdone\u001b[49m\u001b[43m,\u001b[49m\u001b[43m \u001b[49m\u001b[43mcontent\u001b[49m\u001b[43m \u001b[49m\u001b[38;5;129;43;01min\u001b[39;49;00m\u001b[43m \u001b[49m\u001b[43mDataset\u001b[49m\u001b[38;5;241;43m.\u001b[39;49m\u001b[43m_map_single\u001b[49m\u001b[43m(\u001b[49m\u001b[38;5;241;43m*\u001b[39;49m\u001b[38;5;241;43m*\u001b[39;49m\u001b[43mdataset_kwargs\u001b[49m\u001b[43m)\u001b[49m\u001b[43m:\u001b[49m\n\u001b[0;32m   3056\u001b[0m \u001b[43m            \u001b[49m\u001b[38;5;28;43;01mif\u001b[39;49;00m\u001b[43m \u001b[49m\u001b[43mdone\u001b[49m\u001b[43m:\u001b[49m\n\u001b[0;32m   3057\u001b[0m \u001b[43m                \u001b[49m\u001b[43mshards_done\u001b[49m\u001b[43m \u001b[49m\u001b[38;5;241;43m+\u001b[39;49m\u001b[38;5;241;43m=\u001b[39;49m\u001b[43m \u001b[49m\u001b[38;5;241;43m1\u001b[39;49m\n",
      "File \u001b[1;32mc:\\Users\\win10\\AppData\\Local\\Programs\\Python\\Python311\\Lib\\site-packages\\datasets\\arrow_dataset.py:3481\u001b[0m, in \u001b[0;36mDataset._map_single\u001b[1;34m(shard, function, with_indices, with_rank, input_columns, batched, batch_size, drop_last_batch, remove_columns, keep_in_memory, cache_file_name, writer_batch_size, features, disable_nullable, fn_kwargs, new_fingerprint, rank, offset)\u001b[0m\n\u001b[0;32m   3479\u001b[0m         writer\u001b[38;5;241m.\u001b[39mwrite_table(batch\u001b[38;5;241m.\u001b[39mto_arrow())\n\u001b[0;32m   3480\u001b[0m     \u001b[38;5;28;01melse\u001b[39;00m:\n\u001b[1;32m-> 3481\u001b[0m         \u001b[43mwriter\u001b[49m\u001b[38;5;241;43m.\u001b[39;49m\u001b[43mwrite_batch\u001b[49m\u001b[43m(\u001b[49m\u001b[43mbatch\u001b[49m\u001b[43m)\u001b[49m\n\u001b[0;32m   3482\u001b[0m num_examples_progress_update \u001b[38;5;241m+\u001b[39m\u001b[38;5;241m=\u001b[39m num_examples_in_batch\n\u001b[0;32m   3483\u001b[0m \u001b[38;5;28;01mif\u001b[39;00m time\u001b[38;5;241m.\u001b[39mtime() \u001b[38;5;241m>\u001b[39m _time \u001b[38;5;241m+\u001b[39m config\u001b[38;5;241m.\u001b[39mPBAR_REFRESH_TIME_INTERVAL:\n",
      "File \u001b[1;32mc:\\Users\\win10\\AppData\\Local\\Programs\\Python\\Python311\\Lib\\site-packages\\datasets\\arrow_writer.py:609\u001b[0m, in \u001b[0;36mArrowWriter.write_batch\u001b[1;34m(self, batch_examples, writer_batch_size)\u001b[0m\n\u001b[0;32m    607\u001b[0m schema \u001b[38;5;241m=\u001b[39m inferred_features\u001b[38;5;241m.\u001b[39marrow_schema \u001b[38;5;28;01mif\u001b[39;00m \u001b[38;5;28mself\u001b[39m\u001b[38;5;241m.\u001b[39mpa_writer \u001b[38;5;129;01mis\u001b[39;00m \u001b[38;5;28;01mNone\u001b[39;00m \u001b[38;5;28;01melse\u001b[39;00m \u001b[38;5;28mself\u001b[39m\u001b[38;5;241m.\u001b[39mschema\n\u001b[0;32m    608\u001b[0m pa_table \u001b[38;5;241m=\u001b[39m pa\u001b[38;5;241m.\u001b[39mTable\u001b[38;5;241m.\u001b[39mfrom_arrays(arrays, schema\u001b[38;5;241m=\u001b[39mschema)\n\u001b[1;32m--> 609\u001b[0m \u001b[38;5;28;43mself\u001b[39;49m\u001b[38;5;241;43m.\u001b[39;49m\u001b[43mwrite_table\u001b[49m\u001b[43m(\u001b[49m\u001b[43mpa_table\u001b[49m\u001b[43m,\u001b[49m\u001b[43m \u001b[49m\u001b[43mwriter_batch_size\u001b[49m\u001b[43m)\u001b[49m\n",
      "File \u001b[1;32mc:\\Users\\win10\\AppData\\Local\\Programs\\Python\\Python311\\Lib\\site-packages\\datasets\\arrow_writer.py:627\u001b[0m, in \u001b[0;36mArrowWriter.write_table\u001b[1;34m(self, pa_table, writer_batch_size)\u001b[0m\n\u001b[0;32m    625\u001b[0m \u001b[38;5;28mself\u001b[39m\u001b[38;5;241m.\u001b[39m_num_bytes \u001b[38;5;241m+\u001b[39m\u001b[38;5;241m=\u001b[39m pa_table\u001b[38;5;241m.\u001b[39mnbytes\n\u001b[0;32m    626\u001b[0m \u001b[38;5;28mself\u001b[39m\u001b[38;5;241m.\u001b[39m_num_examples \u001b[38;5;241m+\u001b[39m\u001b[38;5;241m=\u001b[39m pa_table\u001b[38;5;241m.\u001b[39mnum_rows\n\u001b[1;32m--> 627\u001b[0m \u001b[38;5;28;43mself\u001b[39;49m\u001b[38;5;241;43m.\u001b[39;49m\u001b[43mpa_writer\u001b[49m\u001b[38;5;241;43m.\u001b[39;49m\u001b[43mwrite_table\u001b[49m\u001b[43m(\u001b[49m\u001b[43mpa_table\u001b[49m\u001b[43m,\u001b[49m\u001b[43m \u001b[49m\u001b[43mwriter_batch_size\u001b[49m\u001b[43m)\u001b[49m\n",
      "File \u001b[1;32mc:\\Users\\win10\\AppData\\Local\\Programs\\Python\\Python311\\Lib\\site-packages\\pyarrow\\ipc.pxi:529\u001b[0m, in \u001b[0;36mpyarrow.lib._CRecordBatchWriter.write_table\u001b[1;34m()\u001b[0m\n",
      "File \u001b[1;32mc:\\Users\\win10\\AppData\\Local\\Programs\\Python\\Python311\\Lib\\site-packages\\pyarrow\\error.pxi:89\u001b[0m, in \u001b[0;36mpyarrow.lib.check_status\u001b[1;34m()\u001b[0m\n",
      "File \u001b[1;32mc:\\Users\\win10\\AppData\\Local\\Programs\\Python\\Python311\\Lib\\site-packages\\fsspec\\implementations\\local.py:426\u001b[0m, in \u001b[0;36mLocalFileOpener.write\u001b[1;34m(self, *args, **kwargs)\u001b[0m\n\u001b[0;32m    425\u001b[0m \u001b[38;5;28;01mdef\u001b[39;00m \u001b[38;5;21mwrite\u001b[39m(\u001b[38;5;28mself\u001b[39m, \u001b[38;5;241m*\u001b[39margs, \u001b[38;5;241m*\u001b[39m\u001b[38;5;241m*\u001b[39mkwargs):\n\u001b[1;32m--> 426\u001b[0m     \u001b[38;5;28;01mreturn\u001b[39;00m \u001b[38;5;28;43mself\u001b[39;49m\u001b[38;5;241;43m.\u001b[39;49m\u001b[43mf\u001b[49m\u001b[38;5;241;43m.\u001b[39;49m\u001b[43mwrite\u001b[49m\u001b[43m(\u001b[49m\u001b[38;5;241;43m*\u001b[39;49m\u001b[43margs\u001b[49m\u001b[43m,\u001b[49m\u001b[43m \u001b[49m\u001b[38;5;241;43m*\u001b[39;49m\u001b[38;5;241;43m*\u001b[39;49m\u001b[43mkwargs\u001b[49m\u001b[43m)\u001b[49m\n",
      "\u001b[1;31mOSError\u001b[0m: [Errno 28] No space left on device"
     ]
    }
   ],
   "source": [
    "from datasets import Dataset\n",
    "import numpy as np\n",
    "\n",
    "def count_samples(dataset):\n",
    "    \"\"\"Count malignant and benign samples without loading entire dataset.\"\"\"\n",
    "    counts = {\"malignant\": 0, \"benign\": 0}\n",
    "    \n",
    "    def count_batch(batch):\n",
    "        counts[\"malignant\"] += sum(1 for x in batch[\"benign_malignant\"] if x == \"malignant\")\n",
    "        counts[\"benign\"] += sum(1 for x in batch[\"benign_malignant\"] if x == \"benign\")\n",
    "        return batch\n",
    "    \n",
    "    # Count in batches\n",
    "    dataset.map(count_batch, batched=True, batch_size=1000)\n",
    "    return counts\n",
    "\n",
    "def create_balanced_dataset(dataset):\n",
    "    \"\"\"Creates balanced dataset processing in batches.\"\"\"\n",
    "    # First pass: count samples and collect malignant indices\n",
    "    counts = {\"malignant\": 0, \"benign\": 0}\n",
    "    malignant_indices = []\n",
    "    \n",
    "    def first_pass(batch, idx):\n",
    "        for i, status in enumerate(batch[\"benign_malignant\"]):\n",
    "            if status == \"malignant\":\n",
    "                counts[\"malignant\"] += 1\n",
    "                malignant_indices.append(idx * len(batch) + i)\n",
    "            else:\n",
    "                counts[\"benign\"] += 1\n",
    "        return batch\n",
    "    \n",
    "    # Process in batches\n",
    "    dataset.map(first_pass, batched=True, batch_size=1000, with_indices=True)\n",
    "    \n",
    "    # Randomly sample benign indices\n",
    "    rng = np.random.default_rng(42)\n",
    "    n_samples = counts[\"malignant\"]\n",
    "    \n",
    "    # Second pass: collect benign indices\n",
    "    benign_indices = []\n",
    "    current_benign = 0\n",
    "    \n",
    "    def second_pass(batch, idx):\n",
    "        nonlocal current_benign\n",
    "        for i, status in enumerate(batch[\"benign_malignant\"]):\n",
    "            if status == \"benign\":\n",
    "                benign_indices.append(idx * len(batch) + i)\n",
    "                current_benign += 1\n",
    "        return batch\n",
    "    \n",
    "    dataset.map(second_pass, batched=True, batch_size=1000, with_indices=True)\n",
    "    \n",
    "    # Randomly sample from benign indices\n",
    "    sampled_benign_indices = rng.choice(\n",
    "        benign_indices, \n",
    "        size=n_samples, \n",
    "        replace=False\n",
    "    ).tolist()\n",
    "    \n",
    "    # Combine indices and sort them\n",
    "    final_indices = sorted(malignant_indices + sampled_benign_indices)\n",
    "    \n",
    "    # Create new dataset using selected indices\n",
    "    return dataset.select(final_indices)\n",
    "\n",
    "# Example usage:\n",
    "# First check the counts\n",
    "counts = count_samples(dataset['train'])\n",
    "print(f\"Original dataset counts: {counts}\")\n",
    "\n"
   ]
  },
  {
   "cell_type": "code",
   "execution_count": null,
   "metadata": {},
   "outputs": [],
   "source": [
    "# Then create balanced dataset\n",
    "balanced_dataset = create_balanced_dataset(dataset)"
   ]
  },
  {
   "cell_type": "code",
   "execution_count": 12,
   "metadata": {},
   "outputs": [
    {
     "data": {
      "text/plain": [
       "IterableDataset({\n",
       "    features: ['isic_id', 'benign_malignant', 'label', 'image'],\n",
       "    num_shards: 1\n",
       "})"
      ]
     },
     "execution_count": 12,
     "metadata": {},
     "output_type": "execute_result"
    }
   ],
   "source": [
    "malignant_samples"
   ]
  },
  {
   "cell_type": "markdown",
   "metadata": {},
   "source": [
    "### Not Needed"
   ]
  },
  {
   "cell_type": "code",
   "execution_count": null,
   "metadata": {
    "id": "pzwSptQOjRXs"
   },
   "outputs": [
    {
     "name": "stdout",
     "output_type": "stream",
     "text": [
      "       image_id  label                                          file_path\n",
      "0  ISIC_0000000      0  datasets/ISIC2016/ISBI2016_ISIC_Part1_Training...\n",
      "1  ISIC_0000001      0  datasets/ISIC2016/ISBI2016_ISIC_Part1_Training...\n",
      "2  ISIC_0000002      1  datasets/ISIC2016/ISBI2016_ISIC_Part1_Training...\n",
      "3  ISIC_0000004      1  datasets/ISIC2016/ISBI2016_ISIC_Part1_Training...\n",
      "4  ISIC_0000006      0  datasets/ISIC2016/ISBI2016_ISIC_Part1_Training...\n",
      "         image_id  label                                          file_path\n",
      "288  ISIC_0010451      0  datasets/ISIC2016/ISBI2016_ISIC_Part1_Test_Dat...\n",
      "283  ISIC_0010379      1  datasets/ISIC2016/ISBI2016_ISIC_Part1_Test_Dat...\n",
      "327  ISIC_0011092      0  datasets/ISIC2016/ISBI2016_ISIC_Part1_Test_Dat...\n",
      "145  ISIC_0001685      0  datasets/ISIC2016/ISBI2016_ISIC_Part1_Test_Dat...\n",
      "55   ISIC_0000202      0  datasets/ISIC2016/ISBI2016_ISIC_Part1_Test_Dat...\n",
      "         image_id  label                                          file_path\n",
      "11   ISIC_0000040      1  datasets/ISIC2016/ISBI2016_ISIC_Part1_Test_Dat...\n",
      "262  ISIC_0010231      1  datasets/ISIC2016/ISBI2016_ISIC_Part1_Test_Dat...\n",
      "185  ISIC_0009889      0  datasets/ISIC2016/ISBI2016_ISIC_Part1_Test_Dat...\n",
      "211  ISIC_0009980      0  datasets/ISIC2016/ISBI2016_ISIC_Part1_Test_Dat...\n",
      "112  ISIC_0000490      0  datasets/ISIC2016/ISBI2016_ISIC_Part1_Test_Dat...\n"
     ]
    }
   ],
   "source": [
    "# #smote images\n",
    "# def create_image_dataframe(base_dir):\n",
    "#     image_ids = []\n",
    "#     labels = []\n",
    "#     file_paths = []\n",
    "\n",
    "#     for label in ['0', '1']: \n",
    "#         label_dir = os.path.join(base_dir, label)\n",
    "#         for image_name in os.listdir(label_dir):\n",
    "#             if image_name.endswith(\".jpg\"): \n",
    "#                 image_id = image_name.split('.')[0]\n",
    "#                 image_ids.append(image_id)\n",
    "#                 labels.append(int(label))\n",
    "#                 file_path = os.path.join(label_dir, image_name)\n",
    "#                 file_paths.append(file_path)\n",
    "\n",
    "#     df = pd.DataFrame({\n",
    "#         'image_id': image_ids,\n",
    "#         'label': labels,\n",
    "#         'file_path': file_paths,\n",
    "#     })\n",
    "    \n",
    "#     return df\n",
    "# base_dir = 'datasets/ISIC2016/smote_images'\n",
    "# #train_labels_df = create_image_dataframe(base_dir)\n",
    "\n",
    "# #original images\n",
    "# def process_dataset(csv_file, image_dir, label_map):\n",
    "#     labels_df = pd.read_csv(csv_file, header=None, names=['image_id', 'label'])\n",
    "#     labels_df['label'] = labels_df['label'].map(label_map)\n",
    "#     labels_df['file_path'] = labels_df['image_id'].apply(lambda x: os.path.join(image_dir, f\"{x}.jpg\"))\n",
    "    \n",
    "#     return labels_df\n",
    "\n",
    "# label_map_train = {'benign': 0, 'malignant': 1}\n",
    "# label_map_test = {0.0: 0, 1.0: 1}\n",
    "\n",
    "# train_csv_file = 'datasets/ISIC2016/ISBI2016_ISIC_Part3_Training_GroundTruth.csv'\n",
    "# train_image_dir = 'datasets/ISIC2016/ISBI2016_ISIC_Part1_Training_Data'\n",
    "\n",
    "# test_csv_file = 'datasets/ISIC2016/ISBI2016_ISIC_Part3_Test_GroundTruth.csv'\n",
    "# test_image_dir = 'datasets/ISIC2016/ISBI2016_ISIC_Part1_Test_Data'\n",
    "\n",
    "# train_labels_df = process_dataset(train_csv_file, train_image_dir, label_map_train)\n",
    "# test_labels_df = process_dataset(test_csv_file, test_image_dir, label_map_test)\n",
    "# validation_labels_df, test_labels_df = train_test_split(test_labels_df, test_size=0.5, random_state=42)\n",
    "\n",
    "# print(train_labels_df.head())\n",
    "# print(test_labels_df.head())\n",
    "# print(validation_labels_df.head())"
   ]
  },
  {
   "cell_type": "markdown",
   "metadata": {},
   "source": [
    "### Dataset Characterization and Visualization"
   ]
  },
  {
   "cell_type": "code",
   "execution_count": 3,
   "metadata": {},
   "outputs": [
    {
     "name": "stdout",
     "output_type": "stream",
     "text": [
      "Train\n",
      "Dataset has 2 classes and 900 samples.\n",
      "Class counts:\n",
      "0    727\n",
      "1    173\n",
      "Name: label, dtype: int64\n"
     ]
    },
    {
     "data": {
      "image/png": "[encoded data removed]",
      "text/plain": [
       "<Figure size 500x300 with 2 Axes>"
      ]
     },
     "metadata": {},
     "output_type": "display_data"
    },
    {
     "name": "stdout",
     "output_type": "stream",
     "text": [
      "Validation\n",
      "Dataset has 2 classes and 189 samples.\n",
      "Class counts:\n",
      "0    152\n",
      "1     37\n",
      "Name: label, dtype: int64\n"
     ]
    },
    {
     "data": {
      "image/png": "[encoded data removed]",
      "text/plain": [
       "<Figure size 500x300 with 2 Axes>"
      ]
     },
     "metadata": {},
     "output_type": "display_data"
    },
    {
     "name": "stdout",
     "output_type": "stream",
     "text": [
      "Test\n",
      "Dataset has 2 classes and 190 samples.\n",
      "Class counts:\n",
      "0    152\n",
      "1     38\n",
      "Name: label, dtype: int64\n"
     ]
    },
    {
     "data": {
      "image/png": "[encoded data removed]",
      "text/plain": [
       "<Figure size 500x300 with 2 Axes>"
      ]
     },
     "metadata": {},
     "output_type": "display_data"
    }
   ],
   "source": [
    "def characterize_dataset(labels_df):\n",
    "        widths, heights = [], []\n",
    "        class_counts = labels_df['label'].value_counts()\n",
    "        \n",
    "        for idx, row in labels_df.iterrows():\n",
    "            image = Image.open(row['file_path'])\n",
    "            widths.append(image.size[0])\n",
    "            heights.append(image.size[1])\n",
    "        \n",
    "        print(f\"Dataset has {len(class_counts)} classes and {len(labels_df)} samples.\")\n",
    "        print(f\"Class counts:\\n{class_counts}\")\n",
    "       \n",
    "        plt.figure(figsize=(5, 3))\n",
    "        plt.hist2d(widths, heights, bins=60, cmap='viridis')\n",
    "        plt.colorbar(label='Number of Images')\n",
    "        plt.title(\"Distribution of Image Sizes\")\n",
    "        plt.xlabel(\"Width (pixels)\")\n",
    "        plt.ylabel(\"Height (pixels)\")\n",
    "        plt.grid(True, linestyle='--', alpha=0.5)\n",
    "        plt.show()\n",
    "\n",
    "print(\"Train\")\n",
    "characterize_dataset(train_labels_df)\n",
    "print(\"Validation\")\n",
    "characterize_dataset(validation_labels_df)\n",
    "print(\"Test\")\n",
    "characterize_dataset(test_labels_df)"
   ]
  },
  {
   "cell_type": "markdown",
   "metadata": {},
   "source": [
    "### Plotting Samples\n"
   ]
  },
  {
   "cell_type": "code",
   "execution_count": null,
   "metadata": {},
   "outputs": [],
   "source": [
    "def plot_samples(labels_df, rows=2, cols=5, processor=None):\n",
    "    fig, axes = plt.subplots(rows, cols, figsize=(cols * 3, rows * 3))\n",
    "    axes = axes.flatten()\n",
    "    sampled_df = labels_df.sample(n=rows * cols, random_state=42)\n",
    "    for i, (index, row) in enumerate(sampled_df.iterrows()):\n",
    "        image_path = row['file_path']\n",
    "        label = row['label']\n",
    "        \n",
    "        image = Image.open(image_path).convert(\"RGB\")\n",
    "        \n",
    "        if processor:\n",
    "            image = processor(images=image, return_tensors=\"pt\")['pixel_values'].squeeze(0).permute(1, 2, 0).numpy()\n",
    "        else:\n",
    "            image = np.array(image)\n",
    "\n",
    "        axes[i].imshow(image)\n",
    "        axes[i].set_title('Malignant' if label == 1 else 'Benign')  # Set title based on the label\n",
    "        axes[i].axis('off')  # Turn off axes\n",
    "    plt.tight_layout()\n",
    "    plt.show()\n",
    "\n",
    "plot_samples(train_labels_df)\n",
    "plot_samples(validation_labels_df)"
   ]
  },
  {
   "cell_type": "markdown",
   "metadata": {
    "id": "1JD1RgHWiTwI"
   },
   "source": [
    "# Classification using Vision Transformers"
   ]
  },
  {
   "cell_type": "markdown",
   "metadata": {},
   "source": [
    "### Defining Dataset for ViT"
   ]
  },
  {
   "cell_type": "code",
   "execution_count": null,
   "metadata": {
    "id": "x4dskOzejS4w"
   },
   "outputs": [],
   "source": [
    "class ISICDatasetTransform(Dataset):\n",
    "    def __init__(self, labels_df, processor=None):\n",
    "        self.labels_df = labels_df\n",
    "        self.processor = processor\n",
    "\n",
    "    def __len__(self):\n",
    "        return len(self.labels_df)\n",
    "\n",
    "    def __getitem__(self, idx):\n",
    "        row = self.labels_df.iloc[idx]\n",
    "        image = Image.open(row['file_path']).convert(\"RGB\")\n",
    "        inputs = self.processor(images=image, return_tensors=\"pt\")\n",
    "        label = row['label']\n",
    "        inputs['labels'] = torch.tensor(label)\n",
    "        \n",
    "        return inputs"
   ]
  },
  {
   "cell_type": "markdown",
   "metadata": {},
   "source": [
    "### Loading Model and Processor"
   ]
  },
  {
   "cell_type": "code",
   "execution_count": null,
   "metadata": {},
   "outputs": [],
   "source": [
    "def load_model_and_processor(model_name):\n",
    "    processor = AutoImageProcessor.from_pretrained(model_name)\n",
    "    model = AutoModelForImageClassification.from_pretrained(\n",
    "        model_name,\n",
    "        num_labels=2,\n",
    "        ignore_mismatched_sizes = True\n",
    "    )\n",
    "    for name,p in model.named_parameters():\n",
    "        if not name.startswith('classifier'):\n",
    "            p.requires_grad = False\n",
    "\n",
    "    num_params = sum([p.numel() for p in model.parameters()])\n",
    "    trainable_params = sum([p.numel() for p in model.parameters() if p.requires_grad])\n",
    "\n",
    "    print(f\"{num_params = :,} | {trainable_params = :,}\")\n",
    "\n",
    "    return model, processor"
   ]
  },
  {
   "cell_type": "markdown",
   "metadata": {},
   "source": [
    "### Data Collator Function"
   ]
  },
  {
   "cell_type": "code",
   "execution_count": null,
   "metadata": {},
   "outputs": [],
   "source": [
    "def collate_fn(batch):\n",
    "    pixel_values = torch.stack([x['pixel_values'].squeeze(0) for x in batch])\n",
    "    labels = torch.tensor([x['labels'] for x in batch])\n",
    "    \n",
    "    return {\n",
    "        'pixel_values': pixel_values,\n",
    "        'labels': labels\n",
    "    }"
   ]
  },
  {
   "cell_type": "markdown",
   "metadata": {},
   "source": [
    "### Metric Computation for Evaluation"
   ]
  },
  {
   "cell_type": "code",
   "execution_count": null,
   "metadata": {},
   "outputs": [],
   "source": [
    "from sklearn.metrics import recall_score, confusion_matrix, average_precision_score, roc_auc_score, accuracy_score\n",
    "\n",
    "def compute_metrics(eval_preds):\n",
    "    logits, labels = eval_preds\n",
    "    logits = torch.tensor(logits)\n",
    "    predictions = torch.argmax(logits, axis=1).numpy()  # Get predicted classes\n",
    "    probabilities = torch.softmax(logits, dim=1)[:, 1].numpy()  # Probabilities for class 1\n",
    "\n",
    "    # Accuracy\n",
    "    accuracy_score_value = accuracy_score(labels, predictions)\n",
    "    \n",
    "    # Sensitivity (Recall for positive class)\n",
    "    sensitivity_score = recall_score(labels, predictions, pos_label=1)\n",
    "    \n",
    "    # Specificity\n",
    "    tn, fp, fn, tp = confusion_matrix(labels, predictions).ravel()\n",
    "    specificity_score = tn / (tn + fp)\n",
    "    \n",
    "    # Average Precision\n",
    "    avg_precision = average_precision_score(labels, probabilities)\n",
    "    \n",
    "    # AUC-ROC\n",
    "    auc_score = roc_auc_score(labels, probabilities)\n",
    "\n",
    "    wandb.log({\n",
    "        'accuracy': accuracy_score_value,\n",
    "        'sensitivity': sensitivity_score,\n",
    "        'specificity': specificity_score,\n",
    "        'average_precision': avg_precision,\n",
    "        'auc_roc': auc_score\n",
    "    })\n",
    "    \n",
    "    return {\n",
    "        'accuracy': accuracy_score_value,\n",
    "        'sensitivity': sensitivity_score,\n",
    "        'specificity': specificity_score,\n",
    "        'average_precision': avg_precision,\n",
    "        'auc_roc': auc_score\n",
    "    }"
   ]
  },
  {
   "cell_type": "markdown",
   "metadata": {},
   "source": [
    "## Model Training and Evaluation"
   ]
  },
  {
   "cell_type": "markdown",
   "metadata": {},
   "source": [
    "### Ready Results"
   ]
  },
  {
   "cell_type": "code",
   "execution_count": null,
   "metadata": {},
   "outputs": [],
   "source": [
    "import json\n",
    "output_file = './output/model_comparison.json'\n",
    "try:\n",
    "    with open(output_file, 'r') as f:\n",
    "        results = json.load(f)\n",
    "except FileNotFoundError:\n",
    "    results = {}"
   ]
  },
  {
   "cell_type": "markdown",
   "metadata": {},
   "source": [
    "### Training Loop"
   ]
  },
  {
   "cell_type": "code",
   "execution_count": null,
   "metadata": {},
   "outputs": [],
   "source": [
    "wandb.init(project='skin_cancer_detection')\n",
    "model_names = [\"google/vit-base-patch16-224\"] # \"google/vit-large-patch16-224\", \"google/vit-base-patch16-384\"\n",
    "\n",
    "for model_name in model_names:\n",
    "    # Load model and processor\n",
    "    model, processor = load_model_and_processor(model_name)\n",
    "    \n",
    "    # Prepare dataset with processor's transformations\n",
    "    train_dataset = ISICDatasetTransform(train_labels_df, processor)\n",
    "    eval_dataset = ISICDatasetTransform(validation_labels_df, processor)\n",
    "    test_dataset = ISICDatasetTransform(test_labels_df, processor)\n",
    "\n",
    "    # Define Training Arguments\n",
    "    training_args = TrainingArguments(\n",
    "        output_dir=f'./results/{model_name}',\n",
    "        per_device_train_batch_size=16,\n",
    "        eval_strategy=\"epoch\",\n",
    "        save_strategy=\"epoch\",\n",
    "        logging_steps=100,\n",
    "        num_train_epochs=5,\n",
    "        learning_rate=3e-4,\n",
    "        save_total_limit=1,\n",
    "        remove_unused_columns=False,\n",
    "        push_to_hub=True,\n",
    "        report_to='wandb',\n",
    "        load_best_model_at_end=True,\n",
    "    )\n",
    "\n",
    "    # Define Trainer\n",
    "    trainer = Trainer(\n",
    "        model=model,\n",
    "        args=training_args,\n",
    "        data_collator=collate_fn,\n",
    "        compute_metrics=compute_metrics,\n",
    "        train_dataset=train_dataset,\n",
    "        eval_dataset=eval_dataset,\n",
    "        tokenizer=processor,\n",
    "    )\n",
    "\n",
    "    # Train and evaluate\n",
    "    print(f\"Training and evaluating model: {model_name}\")\n",
    "    trainer.train(resume_from_checkpoint=False) # Set to True to resume training\n",
    "    eval_results = trainer.evaluate(test_dataset)\n",
    "    results[model_name] = eval_results"
   ]
  },
  {
   "cell_type": "code",
   "execution_count": null,
   "metadata": {},
   "outputs": [],
   "source": [
    "wandb.finish()"
   ]
  },
  {
   "cell_type": "markdown",
   "metadata": {},
   "source": [
    "### Results for Comparison"
   ]
  },
  {
   "cell_type": "code",
   "execution_count": null,
   "metadata": {},
   "outputs": [],
   "source": [
    "# Print out the results for comparison\n",
    "for model_name, metrics in results.items():\n",
    "    print(f\"Model: {model_name}\")\n",
    "    for metric_name, metric_value in metrics.items():\n",
    "        print(f\"  {metric_name}: {metric_value:.4f}\")\n",
    "    print(\"\\n\")\n",
    "\n",
    "\n",
    "# Save the results in JSON format\n",
    "with open(output_file, 'w') as f:\n",
    "    json.dump(results, f, indent=4)\n",
    "\n",
    "print(f\"Results saved to {output_file}\")"
   ]
  }
 ],
 "metadata": {
  "colab": {
   "provenance": [],
   "toc_visible": true
  },
  "kernelspec": {
   "display_name": "Python 3",
   "name": "python3"
  },
  "language_info": {
   "codemirror_mode": {
    "name": "ipython",
    "version": 3
   },
   "file_extension": ".py",
   "mimetype": "text/x-python",
   "name": "python",
   "nbconvert_exporter": "python",
   "pygments_lexer": "ipython3",
   "version": "3.11.2"
  }
 },
 "nbformat": 4,
 "nbformat_minor": 0
}
